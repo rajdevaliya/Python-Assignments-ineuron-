{
 "cells": [
  {
   "cell_type": "markdown",
   "id": "1c0adec4",
   "metadata": {},
   "source": [
    "1. In the below elements which of them are values or an expression? eg:- values can be\n",
    "integer or string and expressions will be mathematical operators.\n",
    "*\n",
    "&#39;hello&#39;\n",
    "-87.8\n",
    "-\n",
    "/\n",
    "+\n",
    "6"
   ]
  },
  {
   "cell_type": "markdown",
   "id": "5e10ef1f",
   "metadata": {},
   "source": [
    "Ans : * = Expression\n",
    "      \"hello\" = string\n",
    "      -87.8 = Float\n",
    "      - = Expression\n",
    "      / = Expression\n",
    "      + = Expression\n",
    "      6 = integer"
   ]
  },
  {
   "cell_type": "markdown",
   "id": "118bdecc",
   "metadata": {},
   "source": [
    "## 2. What is the difference between string and variable?"
   ]
  },
  {
   "cell_type": "code",
   "execution_count": null,
   "id": "7bef1b9d",
   "metadata": {},
   "outputs": [],
   "source": [
    "Ans : String is a character that can be interpreted by python eg = \"Hello world\"\n",
    "    Variable is a storage by which we can store string"
   ]
  },
  {
   "cell_type": "markdown",
   "id": "2693f2b2",
   "metadata": {},
   "source": [
    "## 3. Describe three different data types."
   ]
  },
  {
   "cell_type": "code",
   "execution_count": null,
   "id": "f08b1105",
   "metadata": {},
   "outputs": [],
   "source": [
    "Ans : String, Integer, Float, Tuple, set, Boolean, List, Dictionary"
   ]
  },
  {
   "cell_type": "markdown",
   "id": "7c6e7c25",
   "metadata": {},
   "source": [
    "## 4. What is an expression made up of? What do all expressions do?## "
   ]
  },
  {
   "cell_type": "code",
   "execution_count": null,
   "id": "49942fdd",
   "metadata": {},
   "outputs": [],
   "source": [
    "An expression is a combination of operators and operands that is interpreted to produce some other value. In any programming language, an expression is evaluated as per the precedence of its operators. So that if there is more than one operator in an expression, their precedence decides which operation will be performed first. We have many different types of expressions in Python. Let’s discuss all types along with some exemplar codes :"
   ]
  },
  {
   "cell_type": "markdown",
   "id": "ec87c264",
   "metadata": {},
   "source": [
    "1. Constant Expressions: These are the expressions that have constant values only.\n",
    "\n"
   ]
  },
  {
   "cell_type": "code",
   "execution_count": 5,
   "id": "ab2ef95e",
   "metadata": {},
   "outputs": [
    {
     "name": "stdout",
     "output_type": "stream",
     "text": [
      "16.3\n"
     ]
    }
   ],
   "source": [
    "# Constant Expressions\n",
    "x = 15 + 1.3\n",
    "  \n",
    "print(x)"
   ]
  },
  {
   "cell_type": "markdown",
   "id": "5a8ec526",
   "metadata": {},
   "source": [
    "2 . Arithmetic Expressions: An arithmetic expression is a combination of numeric values, operators, and sometimes parenthesis. The result of this type of expression is also a numeric value. The operators used in these expressions are arithmetic operators like addition, subtraction, etc. Here are some arithmetic operators in Python:\n",
    "\n",
    "Operators\tSyntax\tFunctioning\n",
    "+\tx + y\tAddition\n",
    "–\tx – y\tSubtraction\n",
    "*\tx * y\tMultiplication\n",
    "/\tx / y\tDivision\n",
    "//\tx // y\tQuotient\n",
    "%\tx % y\tRemainder\n",
    "**\tx ** y\tExponentiation"
   ]
  },
  {
   "cell_type": "markdown",
   "id": "03e78a3b",
   "metadata": {},
   "source": [
    "3 . Integral Expressions: These are the kind of expressions that produce only integer results after all computations and type conversions."
   ]
  },
  {
   "cell_type": "code",
   "execution_count": 6,
   "id": "ea10f11b",
   "metadata": {},
   "outputs": [
    {
     "name": "stdout",
     "output_type": "stream",
     "text": [
      "25\n"
     ]
    }
   ],
   "source": [
    "\n",
    "# Integral Expressions\n",
    "a = 13\n",
    "b = 12.0\n",
    "  \n",
    "c = a + int(b)\n",
    "print(c)"
   ]
  },
  {
   "cell_type": "markdown",
   "id": "2b99e918",
   "metadata": {},
   "source": [
    "4 . Floating Expressions: These are the kind of expressions which produce floating point numbers as result after all computations and type conversions."
   ]
  },
  {
   "cell_type": "markdown",
   "id": "1a59246f",
   "metadata": {},
   "source": [
    "5 . Relational Expressions: In these types of expressions, arithmetic expressions are written on both sides of relational operator (> , < , >= , <=). Those arithmetic expressions are evaluated first, and then compared as per relational operator and produce a boolean output in the end. These expressions are also called Boolean expressions."
   ]
  },
  {
   "cell_type": "markdown",
   "id": "febfc79b",
   "metadata": {},
   "source": [
    "6 . Logical Expressions: These are kinds of expressions that result in either True or False. It basically specifies one or more conditions. For example, (10 == 9) is a condition if 10 is equal to 9. As we know it is not correct, so it will return False. Studying logical expressions, we also come across some logical operators which can be seen in logical expressions most often. Here are some logical operators in Python:\n",
    "\n",
    "Operator\tSyntax\tFunctioning\n",
    "and\tP and Q\tIt returns true if both P and Q are true otherwise returns false\n",
    "or\tP or Q\tIt returns true if at least one of P and Q is true\n",
    "not\tnot P\tIt returns true if condition P is false"
   ]
  },
  {
   "cell_type": "code",
   "execution_count": null,
   "id": "7cbf0e46",
   "metadata": {},
   "outputs": [],
   "source": [
    "7. Bitwise operator"
   ]
  },
  {
   "cell_type": "markdown",
   "id": "d8476669",
   "metadata": {},
   "source": [
    "## 5. This assignment statements, like spam = 10. What is the difference between an\n",
    "expression and a statement?"
   ]
  },
  {
   "cell_type": "markdown",
   "id": "34c1cfdf",
   "metadata": {},
   "source": [
    "The combination of values, variables, operator, function call that produce some values are called expresion\n",
    "statement is order or instruction  to the programming language and perform accordingly\n",
    "All lines in programme are statement for interpreter\n",
    "example : print(), if, elif, else, while, for, import"
   ]
  },
  {
   "cell_type": "markdown",
   "id": "6f768e7f",
   "metadata": {},
   "source": [
    "## 6. After running the following code, what does the variable bacon contain?\n",
    "bacon = 22\n",
    "bacon + 1"
   ]
  },
  {
   "cell_type": "code",
   "execution_count": null,
   "id": "24fa1dc3",
   "metadata": {},
   "outputs": [],
   "source": [
    "bacon contain 22 and result will be 23."
   ]
  },
  {
   "cell_type": "markdown",
   "id": "974ee04c",
   "metadata": {},
   "source": [
    "## 7. What should the values of the following two terms be?\n",
    "&#39;spam&#39; + &#39;spamspam&#39;\n",
    "&#39;spam&#39; * 3"
   ]
  },
  {
   "cell_type": "code",
   "execution_count": null,
   "id": "da9c6e8e",
   "metadata": {},
   "outputs": [],
   "source": [
    "ans : 'spamspamspam' = string concatination\n",
    "    'spam' * 3 = 'spamspamspam' = three time spam"
   ]
  },
  {
   "cell_type": "markdown",
   "id": "0e656f7d",
   "metadata": {},
   "source": [
    "## 8. Why is eggs a valid variable name while 100 is invalid?"
   ]
  },
  {
   "cell_type": "markdown",
   "id": "8921c1ac",
   "metadata": {},
   "source": [
    "Variable names cannot begin with a number."
   ]
  },
  {
   "cell_type": "markdown",
   "id": "3c5f26ee",
   "metadata": {},
   "source": [
    "## 9. What three functions can be used to get the integer, floating-point number, or string\n",
    "version of a value?"
   ]
  },
  {
   "cell_type": "code",
   "execution_count": null,
   "id": "b4a0fec4",
   "metadata": {},
   "outputs": [],
   "source": [
    "ans : int(), float(), str()"
   ]
  },
  {
   "cell_type": "markdown",
   "id": "0c1f846d",
   "metadata": {},
   "source": [
    "## 10. Why does this expression cause an error? How can you fix it?\n",
    "&#39;I have eaten &#39; + 99 + &#39; burritos.&#39;"
   ]
  },
  {
   "cell_type": "code",
   "execution_count": null,
   "id": "16b4a2f6",
   "metadata": {},
   "outputs": [],
   "source": [
    "we can not concatinate string with integer \n"
   ]
  },
  {
   "cell_type": "code",
   "execution_count": 7,
   "id": "2ee8851e",
   "metadata": {},
   "outputs": [
    {
     "name": "stdout",
     "output_type": "stream",
     "text": [
      "I have eaten 99 burritos.\n"
     ]
    }
   ],
   "source": [
    "print('I have eaten ' + str(99) + ' burritos.')"
   ]
  },
  {
   "cell_type": "code",
   "execution_count": null,
   "id": "96b33b0d",
   "metadata": {},
   "outputs": [],
   "source": []
  },
  {
   "cell_type": "code",
   "execution_count": null,
   "id": "db155688",
   "metadata": {},
   "outputs": [],
   "source": []
  }
 ],
 "metadata": {
  "kernelspec": {
   "display_name": "Python 3 (ipykernel)",
   "language": "python",
   "name": "python3"
  },
  "language_info": {
   "codemirror_mode": {
    "name": "ipython",
    "version": 3
   },
   "file_extension": ".py",
   "mimetype": "text/x-python",
   "name": "python",
   "nbconvert_exporter": "python",
   "pygments_lexer": "ipython3",
   "version": "3.10.2"
  }
 },
 "nbformat": 4,
 "nbformat_minor": 5
}
