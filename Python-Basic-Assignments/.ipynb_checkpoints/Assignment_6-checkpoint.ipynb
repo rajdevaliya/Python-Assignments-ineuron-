{
 "cells": [
  {
   "cell_type": "markdown",
   "id": "09a8f2ee",
   "metadata": {},
   "source": [
    "# 1. What are escape characters, and how do you use them?"
   ]
  },
  {
   "cell_type": "code",
   "execution_count": null,
   "id": "8e8310b3",
   "metadata": {},
   "outputs": [],
   "source": [
    "To insert character that are illegal or imposible to write in code, use escape character followed by backslash \\"
   ]
  },
  {
   "cell_type": "markdown",
   "id": "1285c73b",
   "metadata": {},
   "source": [
    "# 2.What do the escape characters n and t stand for ?\n"
   ]
  },
  {
   "cell_type": "code",
   "execution_count": null,
   "id": "59b6a7c6",
   "metadata": {},
   "outputs": [],
   "source": [
    "\\n is newline character and will give new line to string\n",
    "\\t is tab and will give one tab space in between string"
   ]
  },
  {
   "cell_type": "markdown",
   "id": "6e0e7164",
   "metadata": {},
   "source": [
    "# 3.What is the way to include backslash character in a string?\n"
   ]
  },
  {
   "cell_type": "code",
   "execution_count": null,
   "id": "d41eb11d",
   "metadata": {},
   "outputs": [],
   "source": [
    "like this : \\\\n or \\\\t"
   ]
  },
  {
   "cell_type": "markdown",
   "id": "1eb27de8",
   "metadata": {},
   "source": [
    "# 4.The string \"Howl's Moving Castle\" is a correct value. Why isn't the single quote character in the word Howl's not escaped a problem ?\n"
   ]
  },
  {
   "cell_type": "code",
   "execution_count": 3,
   "id": "f41efb10",
   "metadata": {},
   "outputs": [],
   "source": [
    "# by putting one single quote in string interpreter will assume Howl's quote is end of the string\n",
    "# To use single quote and howl`s quote we have to use like this : 'Howl\\\\'s Moving castle'"
   ]
  },
  {
   "cell_type": "markdown",
   "id": "0832c84e",
   "metadata": {},
   "source": [
    "# 5.How do you write a string of newlines if you don't want to use the n character?\n"
   ]
  },
  {
   "cell_type": "code",
   "execution_count": null,
   "id": "0fb5f665",
   "metadata": {},
   "outputs": [],
   "source": [
    "# multiline string allows us to write newline string without using escape character"
   ]
  },
  {
   "cell_type": "code",
   "execution_count": 4,
   "id": "c193f0e4",
   "metadata": {},
   "outputs": [
    {
     "name": "stdout",
     "output_type": "stream",
     "text": [
      "\n",
      "    i am learning Ineuron \n",
      "    full \n",
      "    stack \n",
      "    data \n",
      "    science\n",
      "\n"
     ]
    }
   ],
   "source": [
    "x = '''\n",
    "    i am learning Ineuron \n",
    "    full \n",
    "    stack \n",
    "    data \n",
    "    science\n",
    "'''\n",
    "print(x)"
   ]
  },
  {
   "cell_type": "markdown",
   "id": "9d6b4cc0",
   "metadata": {},
   "source": [
    "# 6.What are the values of the given expressions ?\n",
    "'Hello, world!'[1]\n",
    "'Hello, world!'[0:5]\n",
    "'Hello, world!'[:5]\n",
    "'Hello, world!'[3:]"
   ]
  },
  {
   "cell_type": "code",
   "execution_count": null,
   "id": "beea38c3",
   "metadata": {},
   "outputs": [],
   "source": [
    "Ans: The values for the given expressions are:\n",
    "'Hello, world!'[1] -> 'e'\n",
    "'Hello, world!'[0:5] -> 'Hello'\n",
    "'Hello, world!'[:5] -> 'Hello'\n",
    "'Hello, world!'[3:] -> 'lo, world!'"
   ]
  },
  {
   "cell_type": "markdown",
   "id": "0e196e72",
   "metadata": {},
   "source": [
    "# 7.What are the values of the following expressions ?\n"
   ]
  },
  {
   "cell_type": "code",
   "execution_count": null,
   "id": "7c72dc64",
   "metadata": {},
   "outputs": [],
   "source": [
    "Ans: The values for the given expressions are:\n",
    "'Hello'.upper() -> 'HELLO'\n",
    "'Hello'.upper().isupper() -> True\n",
    "'Hello'.upper().lower() -> 'hello'"
   ]
  },
  {
   "cell_type": "markdown",
   "id": "80cd5f12",
   "metadata": {},
   "source": [
    "# 8.What are the values of the following expressions ?\n",
    "\n",
    "'Remember, remember, the fifith of July.'.split()\n",
    "-'.join('There can only one'.split())"
   ]
  },
  {
   "cell_type": "code",
   "execution_count": 5,
   "id": "dc6f0eed",
   "metadata": {},
   "outputs": [
    {
     "name": "stdout",
     "output_type": "stream",
     "text": [
      "['Remember,', 'remember,', 'the', 'fifith', 'of', 'July']\n"
     ]
    }
   ],
   "source": [
    "print('Remember, remember, the fifith of July'.split())"
   ]
  },
  {
   "cell_type": "code",
   "execution_count": 6,
   "id": "a60368c2",
   "metadata": {},
   "outputs": [
    {
     "name": "stdout",
     "output_type": "stream",
     "text": [
      "Remember,-remember,-the-fifith-of-July\n"
     ]
    }
   ],
   "source": [
    "print('-'.join('Remember, remember, the fifith of July'.split()))"
   ]
  },
  {
   "cell_type": "markdown",
   "id": "0f067d59",
   "metadata": {},
   "source": [
    "# 9.What are the methods for right-justifying, left-justifying and centering a string ?\n"
   ]
  },
  {
   "cell_type": "code",
   "execution_count": null,
   "id": "fedfcc3b",
   "metadata": {},
   "outputs": [],
   "source": [
    "ans "
   ]
  },
  {
   "cell_type": "code",
   "execution_count": 8,
   "id": "36ae8a02",
   "metadata": {},
   "outputs": [
    {
     "name": "stdout",
     "output_type": "stream",
     "text": [
      "########Full stack data science#########\n"
     ]
    }
   ],
   "source": [
    "string = \"Full stack data science\"\n",
    "cstr = string.center(40, '#')\n",
    "print(cstr)"
   ]
  },
  {
   "cell_type": "code",
   "execution_count": 10,
   "id": "34905250",
   "metadata": {},
   "outputs": [
    {
     "name": "stdout",
     "output_type": "stream",
     "text": [
      "Full stack data science#################\n"
     ]
    }
   ],
   "source": [
    "lstr = string.ljust(40, '#')\n",
    "print(lstr)"
   ]
  },
  {
   "cell_type": "code",
   "execution_count": 11,
   "id": "b07c0e1d",
   "metadata": {},
   "outputs": [
    {
     "name": "stdout",
     "output_type": "stream",
     "text": [
      "#################Full stack data science\n"
     ]
    }
   ],
   "source": [
    "rstr = string.rjust(40, '#')\n",
    "print(rstr)"
   ]
  },
  {
   "cell_type": "markdown",
   "id": "6a0f17b6",
   "metadata": {},
   "source": [
    "# 10.What is the best way to remove whitespace characters from the start or end ?\n"
   ]
  },
  {
   "cell_type": "code",
   "execution_count": null,
   "id": "0edcc3e8",
   "metadata": {},
   "outputs": [],
   "source": [
    "Ans: The lstrip() and rstrip() methods remove whitesapce characters from the left and right ends of a string respectively"
   ]
  },
  {
   "cell_type": "code",
   "execution_count": null,
   "id": "1b3f8b9d",
   "metadata": {},
   "outputs": [],
   "source": []
  },
  {
   "cell_type": "code",
   "execution_count": null,
   "id": "a8fe19e1",
   "metadata": {},
   "outputs": [],
   "source": []
  },
  {
   "cell_type": "code",
   "execution_count": null,
   "id": "0a29a0e5",
   "metadata": {},
   "outputs": [],
   "source": []
  },
  {
   "cell_type": "code",
   "execution_count": null,
   "id": "3e7165c2",
   "metadata": {},
   "outputs": [],
   "source": []
  },
  {
   "cell_type": "code",
   "execution_count": null,
   "id": "f3240ba6",
   "metadata": {},
   "outputs": [],
   "source": []
  },
  {
   "cell_type": "code",
   "execution_count": null,
   "id": "b5467353",
   "metadata": {},
   "outputs": [],
   "source": []
  },
  {
   "cell_type": "code",
   "execution_count": null,
   "id": "8f5cbdbe",
   "metadata": {},
   "outputs": [],
   "source": []
  },
  {
   "cell_type": "code",
   "execution_count": null,
   "id": "6f249c00",
   "metadata": {},
   "outputs": [],
   "source": []
  },
  {
   "cell_type": "code",
   "execution_count": null,
   "id": "0b9ca9c8",
   "metadata": {},
   "outputs": [],
   "source": []
  },
  {
   "cell_type": "code",
   "execution_count": null,
   "id": "76d0dea2",
   "metadata": {},
   "outputs": [],
   "source": []
  },
  {
   "cell_type": "code",
   "execution_count": null,
   "id": "7133dc89",
   "metadata": {},
   "outputs": [],
   "source": []
  },
  {
   "cell_type": "code",
   "execution_count": null,
   "id": "89fdcea6",
   "metadata": {},
   "outputs": [],
   "source": []
  },
  {
   "cell_type": "code",
   "execution_count": null,
   "id": "606f4071",
   "metadata": {},
   "outputs": [],
   "source": []
  },
  {
   "cell_type": "code",
   "execution_count": null,
   "id": "cf4c9d0c",
   "metadata": {},
   "outputs": [],
   "source": []
  },
  {
   "cell_type": "code",
   "execution_count": null,
   "id": "74fd3630",
   "metadata": {},
   "outputs": [],
   "source": []
  },
  {
   "cell_type": "code",
   "execution_count": null,
   "id": "2690b12d",
   "metadata": {},
   "outputs": [],
   "source": []
  },
  {
   "cell_type": "code",
   "execution_count": null,
   "id": "d1944118",
   "metadata": {},
   "outputs": [],
   "source": []
  },
  {
   "cell_type": "code",
   "execution_count": null,
   "id": "f46e1e2a",
   "metadata": {},
   "outputs": [],
   "source": []
  },
  {
   "cell_type": "code",
   "execution_count": null,
   "id": "56509dd6",
   "metadata": {},
   "outputs": [],
   "source": []
  },
  {
   "cell_type": "code",
   "execution_count": null,
   "id": "b2b4967b",
   "metadata": {},
   "outputs": [],
   "source": []
  },
  {
   "cell_type": "code",
   "execution_count": null,
   "id": "7af3af78",
   "metadata": {},
   "outputs": [],
   "source": []
  },
  {
   "cell_type": "code",
   "execution_count": null,
   "id": "bf68e8cb",
   "metadata": {},
   "outputs": [],
   "source": []
  },
  {
   "cell_type": "code",
   "execution_count": null,
   "id": "b47e73b2",
   "metadata": {},
   "outputs": [],
   "source": []
  },
  {
   "cell_type": "code",
   "execution_count": null,
   "id": "92ac3e46",
   "metadata": {},
   "outputs": [],
   "source": []
  }
 ],
 "metadata": {
  "kernelspec": {
   "display_name": "Python 3 (ipykernel)",
   "language": "python",
   "name": "python3"
  },
  "language_info": {
   "codemirror_mode": {
    "name": "ipython",
    "version": 3
   },
   "file_extension": ".py",
   "mimetype": "text/x-python",
   "name": "python",
   "nbconvert_exporter": "python",
   "pygments_lexer": "ipython3",
   "version": "3.11.1"
  }
 },
 "nbformat": 4,
 "nbformat_minor": 5
}
