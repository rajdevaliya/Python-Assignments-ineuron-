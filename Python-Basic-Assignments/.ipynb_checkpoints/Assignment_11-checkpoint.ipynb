{
 "cells": [
  {
   "cell_type": "markdown",
   "id": "07a52ec4",
   "metadata": {},
   "source": [
    "# 1. Create an assert statement that throws an AssertionError if the variable spam is a negative integer.\n"
   ]
  },
  {
   "cell_type": "markdown",
   "id": "ecb580ce",
   "metadata": {},
   "source": [
    "Ans : assert works when the condition becomes false"
   ]
  },
  {
   "cell_type": "code",
   "execution_count": 1,
   "id": "f2a3b2d4",
   "metadata": {},
   "outputs": [
    {
     "ename": "AssertionError",
     "evalue": "",
     "output_type": "error",
     "traceback": [
      "\u001b[1;31m------------------------------------------------------------------------\u001b[0m",
      "\u001b[1;31mAssertionError\u001b[0m                         Traceback (most recent call last)",
      "Cell \u001b[1;32mIn[1], line 2\u001b[0m\n\u001b[0;32m      1\u001b[0m spam \u001b[38;5;241m=\u001b[39m \u001b[38;5;241m-\u001b[39m\u001b[38;5;241m22\u001b[39m\n\u001b[1;32m----> 2\u001b[0m \u001b[38;5;28;01massert\u001b[39;00m spam \u001b[38;5;241m>\u001b[39m\u001b[38;5;241m=\u001b[39m \u001b[38;5;241m0\u001b[39m\n",
      "\u001b[1;31mAssertionError\u001b[0m: "
     ]
    }
   ],
   "source": [
    "spam = -22\n",
    "assert spam >= 0"
   ]
  },
  {
   "cell_type": "markdown",
   "id": "5510fc3f",
   "metadata": {},
   "source": [
    "# 2. Write an assert statement that triggers an AssertionError if the variables eggs and bacon contain strings that are the same as each other, even if their cases are different (that is, 'hello' and 'hello' are considered the same, and 'goodbye' and 'GOODbye' are also considered the same)."
   ]
  },
  {
   "cell_type": "code",
   "execution_count": null,
   "id": "2922d796",
   "metadata": {},
   "outputs": [],
   "source": []
  },
  {
   "cell_type": "code",
   "execution_count": null,
   "id": "32df38ef",
   "metadata": {},
   "outputs": [],
   "source": [
    "def raise_assert(egg,bacon):\n",
    "    egg = egg.upper()\n",
    "    bacon = bacon.upper()\n",
    "    assert (egg != bacon), 'Eggs/Bacon should not be same, which are same now'\n",
    "raise_assert('hello','HELLO')"
   ]
  },
  {
   "cell_type": "markdown",
   "id": "20c72cba",
   "metadata": {},
   "source": [
    "# 3. Create an assert statement that throws an AssertionError every time.\n"
   ]
  },
  {
   "cell_type": "code",
   "execution_count": null,
   "id": "c62514d0",
   "metadata": {},
   "outputs": [],
   "source": [
    "def assertion_error():\n",
    "    assert False, \"This will always give an error\"\n",
    "assertion_error()"
   ]
  },
  {
   "cell_type": "markdown",
   "id": "2449adb6",
   "metadata": {},
   "source": [
    "# 4. What are the two lines that must be present in your software in order to call logging.debug()?\n"
   ]
  },
  {
   "cell_type": "code",
   "execution_count": null,
   "id": "470ef5c3",
   "metadata": {},
   "outputs": [],
   "source": [
    "import logging\n",
    "logging.basicConfig(filename = 'application_log.txt',level=logging.DEBUG, format=' %(asctime)s - %(levelname)s - %(message)s')"
   ]
  },
  {
   "cell_type": "markdown",
   "id": "e0f41555",
   "metadata": {},
   "source": [
    "# 5. What are the two lines that your program must have in order to have logging.debug() send a logging message to a file named programLog.txt?"
   ]
  },
  {
   "cell_type": "code",
   "execution_count": 2,
   "id": "43e168ac",
   "metadata": {},
   "outputs": [
    {
     "name": "stdout",
     "output_type": "stream",
     "text": [
      " 2022-12-25 11:15:41,543 - DEBUG - Data Inserted Successfully\n",
      "\n",
      " 2022-12-25 11:15:41,543 - DEBUG - Connection Closed Successfully\n",
      "\n",
      " 2022-12-25 11:19:08,557 - DEBUG - pickle loaded: C:\\Python311\\Lib\\site-packages\\jedi\\third_party\\typeshed\\stdlib\\3\\builtins.pyi\n",
      "\n",
      " 2022-12-25 11:19:09,415 - DEBUG - diff parser start\n",
      "\n",
      " 2022-12-25 11:19:09,415 - DEBUG - line_lengths old: 1; new: 1\n",
      "\n",
      " 2022-12-25 11:19:09,416 - DEBUG - -> code[replace] old[1:1] new[1:1]\n",
      "\n",
      " 2022-12-25 11:19:09,417 - DEBUG - parse_part from 1 to 1 (to 0 in part parser)\n",
      "\n",
      " 2022-12-25 11:19:09,417 - DEBUG - diff parser end\n",
      "\n",
      " 2022-12-25 11:19:21,967 - DEBUG - diff parser start\n",
      "\n",
      " 2022-12-25 11:19:21,968 - DEBUG - line_lengths old: 1; new: 1\n",
      "\n",
      " 2022-12-25 11:19:21,968 - DEBUG - -> code[replace] old[1:1] new[1:1]\n",
      "\n",
      " 2022-12-25 11:19:21,968 - DEBUG - parse_part from 1 to 1 (to 0 in part parser)\n",
      "\n",
      " 2022-12-25 11:19:21,969 - DEBUG - diff parser end\n",
      "\n",
      " 2022-12-25 11:20:03,335 - DEBUG - Data Inserted Successfully\n",
      "\n",
      " 2022-12-25 11:20:03,336 - DEBUG - Connection Closed Successfully\n",
      "\n"
     ]
    }
   ],
   "source": [
    "import logging\n",
    "logging.basicConfig(filename = 'application_log.txt',level=logging.DEBUG, format=' %(asctime)s - %(levelname)s - %(message)s')\n",
    "logging.debug(\"Data Inserted Successfully\")\n",
    "logging.debug('Connection Closed Successfully')\n",
    "file = open(\"./application_log.txt\",\"r\")\n",
    "for record in file.readlines():\n",
    "    print(record)\n",
    "file.close()"
   ]
  },
  {
   "cell_type": "markdown",
   "id": "d2b04d3f",
   "metadata": {},
   "source": [
    "# 6. What are the five levels of logging?\n"
   ]
  },
  {
   "cell_type": "markdown",
   "id": "3226e689",
   "metadata": {},
   "source": [
    "Ans: The Five levels of Logging provided by python's logging module are CRITICAL(50), ERROR(40), WARNING(30), INFO(20, DEBUG(10), NOTSET(0)"
   ]
  },
  {
   "cell_type": "markdown",
   "id": "db8c00e8",
   "metadata": {},
   "source": [
    "# 7. What line of code would you add to your software to disable all logging messages?\n"
   ]
  },
  {
   "cell_type": "code",
   "execution_count": null,
   "id": "4eeeb94c",
   "metadata": {},
   "outputs": [],
   "source": [
    "logging.disable = True"
   ]
  },
  {
   "cell_type": "markdown",
   "id": "f6e6b200",
   "metadata": {},
   "source": [
    "# 8.Why is using logging messages better than using print() to display the same message?\n"
   ]
  },
  {
   "cell_type": "markdown",
   "id": "e34f65c5",
   "metadata": {},
   "source": [
    "Ans: Post devlopment of your code, you can disable logging messages without removing the logging function, whereas you need to manually remove print() statements, which is tedious activity. and also print is used when you want to display any particular message or help whereas logging is used to record all events like error, info, debug messages, timestamps."
   ]
  },
  {
   "cell_type": "markdown",
   "id": "059e47be",
   "metadata": {},
   "source": [
    "# 9.What are the differences between the Step Over, Step In, and Step Out buttons in the debugger?\n"
   ]
  },
  {
   "cell_type": "markdown",
   "id": "3d2da48f",
   "metadata": {},
   "source": [
    "Ans: The Differences between Step Over, Step In, Step Out buttons in debugger are:\n",
    "\n",
    "Step in - Step In button will cause the debugger to execute the next line of code and then pause again.\n",
    "Step Over - Step Over button will execute the next line of code, similar to the Step In button. However, if the next line of               code is a function call, the Step Over button will “step over” the code in the function. The function’s code will               be executed at full speed, and the debugger will pause as soon as the function call returns.\n",
    "Step out - Step Out button will cause the debugger to execute lines of code at full speed until it returns from the current function."
   ]
  },
  {
   "cell_type": "markdown",
   "id": "6dac31e8",
   "metadata": {},
   "source": [
    "# 10.After you click Continue, when will the debugger stop ?\n"
   ]
  },
  {
   "cell_type": "markdown",
   "id": "1623511b",
   "metadata": {},
   "source": [
    "Ans: This will cause the program to continue running normally, without pausing for debugging untill it terminates or reaches a breakpoint.\n",
    "\n"
   ]
  },
  {
   "cell_type": "markdown",
   "id": "a77abd87",
   "metadata": {},
   "source": [
    "# 11. What is the concept of a breakpoint?\n"
   ]
  },
  {
   "cell_type": "markdown",
   "id": "e9782d2a",
   "metadata": {},
   "source": [
    "Ans: Breakpoint is a setting on a line of code that causes the debugger to pause when the program execution reaches the line"
   ]
  },
  {
   "cell_type": "code",
   "execution_count": null,
   "id": "808026d5",
   "metadata": {},
   "outputs": [],
   "source": []
  },
  {
   "cell_type": "code",
   "execution_count": null,
   "id": "d5ca2af8",
   "metadata": {},
   "outputs": [],
   "source": []
  },
  {
   "cell_type": "code",
   "execution_count": null,
   "id": "9a02b04d",
   "metadata": {},
   "outputs": [],
   "source": []
  },
  {
   "cell_type": "code",
   "execution_count": null,
   "id": "ba08a604",
   "metadata": {},
   "outputs": [],
   "source": []
  },
  {
   "cell_type": "code",
   "execution_count": null,
   "id": "312b668e",
   "metadata": {},
   "outputs": [],
   "source": []
  },
  {
   "cell_type": "code",
   "execution_count": null,
   "id": "6a52ca4d",
   "metadata": {},
   "outputs": [],
   "source": []
  },
  {
   "cell_type": "code",
   "execution_count": null,
   "id": "e3e164b1",
   "metadata": {},
   "outputs": [],
   "source": []
  },
  {
   "cell_type": "code",
   "execution_count": null,
   "id": "66d81b18",
   "metadata": {},
   "outputs": [],
   "source": []
  },
  {
   "cell_type": "code",
   "execution_count": null,
   "id": "5ffc8a05",
   "metadata": {},
   "outputs": [],
   "source": []
  }
 ],
 "metadata": {
  "kernelspec": {
   "display_name": "Python 3 (ipykernel)",
   "language": "python",
   "name": "python3"
  },
  "language_info": {
   "codemirror_mode": {
    "name": "ipython",
    "version": 3
   },
   "file_extension": ".py",
   "mimetype": "text/x-python",
   "name": "python",
   "nbconvert_exporter": "python",
   "pygments_lexer": "ipython3",
   "version": "3.11.1"
  }
 },
 "nbformat": 4,
 "nbformat_minor": 5
}
