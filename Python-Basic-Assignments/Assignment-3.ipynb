{
 "cells": [
  {
   "cell_type": "markdown",
   "id": "a0e4fd46",
   "metadata": {},
   "source": [
    "## Q1. Why are functions advantageous to have in your programs?\n",
    "\n"
   ]
  },
  {
   "cell_type": "markdown",
   "id": "457044ad",
   "metadata": {},
   "source": [
    "Functions reduce the need for duplicate code. This makes programs shorter, easier to read, and easier to update.\n",
    "and maintaines dont repeat your self concept\n",
    "\n"
   ]
  },
  {
   "cell_type": "markdown",
   "id": "6c2ca5f4",
   "metadata": {},
   "source": [
    "## Q2. When does the code in a function run:when it's specified or when it's called?\n",
    "\n"
   ]
  },
  {
   "cell_type": "markdown",
   "id": "e6ba4413",
   "metadata": {},
   "source": [
    "Ans . Code in the function runs when the function is called\n",
    "\n"
   ]
  },
  {
   "cell_type": "markdown",
   "id": "ab491f2e",
   "metadata": {},
   "source": [
    "## Q3. What statement creates a function?\n",
    "\n"
   ]
  },
  {
   "cell_type": "code",
   "execution_count": null,
   "id": "b1c490c7",
   "metadata": {},
   "outputs": [],
   "source": [
    "Ans. The def statement defines (i.e. creates) a function.\n",
    "Eg .\n",
    "def my_func():\n",
    "pass"
   ]
  },
  {
   "cell_type": "markdown",
   "id": "5ccdc4ed",
   "metadata": {},
   "source": [
    "## Q4. What is the difference between a function and a function call?\n",
    "\n"
   ]
  },
  {
   "cell_type": "code",
   "execution_count": null,
   "id": "cfdebde8",
   "metadata": {},
   "outputs": [],
   "source": [
    "ans. defining function means writing code in it but not executing\n",
    "we can execute that code by calling function () as per out requirement."
   ]
  },
  {
   "cell_type": "markdown",
   "id": "5b6983ae",
   "metadata": {},
   "source": [
    "## Q5. How many global scopes are there in a Python program? How many local scopes?\n",
    "\n"
   ]
  },
  {
   "cell_type": "markdown",
   "id": "39c3e295",
   "metadata": {},
   "source": [
    "Ans .There's only one global Python scope per program execution. This scope remains in existence until the program terminates , and a local scope is created whenever a function is called."
   ]
  },
  {
   "cell_type": "markdown",
   "id": "a911f0a7",
   "metadata": {},
   "source": [
    "## Q6. What happens to variables in a local scope when the function call returns?\n",
    "\n"
   ]
  },
  {
   "cell_type": "markdown",
   "id": "68daff12",
   "metadata": {},
   "source": [
    "Ans. When a function returns, the local scope is destroyed.\n",
    "\n"
   ]
  },
  {
   "cell_type": "markdown",
   "id": "54e44309",
   "metadata": {},
   "source": [
    "## Q7. What is the concept of a return value? Is it possible to have a return value in an expression?\n",
    "\n"
   ]
  },
  {
   "cell_type": "markdown",
   "id": "2f6c30db",
   "metadata": {},
   "source": [
    "ans  . return value is a output of code evaluation result . a return value can be used as part of an expression"
   ]
  },
  {
   "cell_type": "code",
   "execution_count": 1,
   "id": "440dc457",
   "metadata": {},
   "outputs": [
    {
     "data": {
      "text/plain": [
       "10"
      ]
     },
     "execution_count": 1,
     "metadata": {},
     "output_type": "execute_result"
    }
   ],
   "source": [
    "def total(a,b):\n",
    "    return a+b\n",
    "total(5, 5)"
   ]
  },
  {
   "cell_type": "markdown",
   "id": "1040267f",
   "metadata": {},
   "source": [
    "## Q8. If a function does not have a return statement, what is the return value of a call to that function?\n",
    "\n"
   ]
  },
  {
   "cell_type": "markdown",
   "id": "f1f849be",
   "metadata": {},
   "source": [
    "Ans. If the funtion does not have a return statement it will not return anything.\n",
    "\n"
   ]
  },
  {
   "cell_type": "markdown",
   "id": "cd0059b8",
   "metadata": {},
   "source": [
    "## Q9. How do you make a function variable refer to the global variable?\n",
    "\n"
   ]
  },
  {
   "cell_type": "markdown",
   "id": "38e153f7",
   "metadata": {},
   "source": [
    "Ans. To make function variable as a global variable you can use the global keyword to declare which variables are global.\n",
    "\n"
   ]
  },
  {
   "cell_type": "markdown",
   "id": "b9481485",
   "metadata": {},
   "source": [
    "## Q10. What is the data type of None?\n",
    "\n"
   ]
  },
  {
   "cell_type": "code",
   "execution_count": 2,
   "id": "ecf0d416",
   "metadata": {},
   "outputs": [
    {
     "data": {
      "text/plain": [
       "NoneType"
      ]
     },
     "execution_count": 2,
     "metadata": {},
     "output_type": "execute_result"
    }
   ],
   "source": [
    "type(None)"
   ]
  },
  {
   "cell_type": "markdown",
   "id": "bafd03c9",
   "metadata": {},
   "source": [
    "## Q11. What does the sentence import areallyourpetsnamederic do?\n",
    "\n"
   ]
  },
  {
   "cell_type": "markdown",
   "id": "0652cfff",
   "metadata": {},
   "source": [
    "if that module is not available it will give import error module not found"
   ]
  },
  {
   "cell_type": "markdown",
   "id": "f7aaeaa6",
   "metadata": {},
   "source": [
    "## Q12. If you had a bacon() feature in a spam module, what would you call it after importing spam?\n",
    "\n"
   ]
  },
  {
   "cell_type": "markdown",
   "id": "69febe69",
   "metadata": {},
   "source": [
    "Ans .import spam\n",
    "spam.bacon()"
   ]
  },
  {
   "cell_type": "markdown",
   "id": "77649086",
   "metadata": {},
   "source": [
    "## Q13. What can you do to save a programme from crashing if it encounters an error?\n",
    "\n"
   ]
  },
  {
   "cell_type": "code",
   "execution_count": null,
   "id": "f1028d59",
   "metadata": {},
   "outputs": [],
   "source": [
    "Ans. We can use try except clause to save a program from crashing."
   ]
  },
  {
   "cell_type": "markdown",
   "id": "72b96dfb",
   "metadata": {},
   "source": [
    "## Q14. What is the purpose of the try clause? What is the purpose of the except clause?\n",
    "\n"
   ]
  },
  {
   "cell_type": "code",
   "execution_count": null,
   "id": "86f8055a",
   "metadata": {},
   "outputs": [],
   "source": []
  },
  {
   "cell_type": "code",
   "execution_count": null,
   "id": "d157c198",
   "metadata": {},
   "outputs": [],
   "source": []
  },
  {
   "cell_type": "code",
   "execution_count": null,
   "id": "3fa5a63b",
   "metadata": {},
   "outputs": [],
   "source": []
  },
  {
   "cell_type": "code",
   "execution_count": null,
   "id": "b569a839",
   "metadata": {},
   "outputs": [],
   "source": []
  },
  {
   "cell_type": "code",
   "execution_count": null,
   "id": "62fd6a5c",
   "metadata": {},
   "outputs": [],
   "source": []
  },
  {
   "cell_type": "code",
   "execution_count": null,
   "id": "780f773d",
   "metadata": {},
   "outputs": [],
   "source": []
  },
  {
   "cell_type": "code",
   "execution_count": null,
   "id": "bc38f55d",
   "metadata": {},
   "outputs": [],
   "source": []
  },
  {
   "cell_type": "code",
   "execution_count": null,
   "id": "dfda0905",
   "metadata": {},
   "outputs": [],
   "source": []
  }
 ],
 "metadata": {
  "kernelspec": {
   "display_name": "Python 3 (ipykernel)",
   "language": "python",
   "name": "python3"
  },
  "language_info": {
   "codemirror_mode": {
    "name": "ipython",
    "version": 3
   },
   "file_extension": ".py",
   "mimetype": "text/x-python",
   "name": "python",
   "nbconvert_exporter": "python",
   "pygments_lexer": "ipython3",
   "version": "3.10.2"
  }
 },
 "nbformat": 4,
 "nbformat_minor": 5
}
