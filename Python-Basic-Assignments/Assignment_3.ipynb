{
 "cells": [
  {
   "cell_type": "markdown",
   "id": "0e677422",
   "metadata": {},
   "source": [
    "## Q1. Why are functions advantageous to have in your programs?\n",
    "\n"
   ]
  },
  {
   "cell_type": "markdown",
   "id": "22b00a7d",
   "metadata": {},
   "source": [
    "Functions reduce the need for duplicate code. This makes programs shorter, easier to read, and easier to update.\n",
    "and maintaines dont repeat your self concept\n",
    "\n"
   ]
  },
  {
   "cell_type": "markdown",
   "id": "0792967a",
   "metadata": {},
   "source": [
    "## Q2. When does the code in a function run:when it's specified or when it's called?\n",
    "\n"
   ]
  },
  {
   "cell_type": "markdown",
   "id": "02c94909",
   "metadata": {},
   "source": [
    "Ans . Code in the function runs when the function is called\n",
    "\n"
   ]
  },
  {
   "cell_type": "markdown",
   "id": "ad9fea61",
   "metadata": {},
   "source": [
    "## Q3. What statement creates a function?\n",
    "\n"
   ]
  },
  {
   "cell_type": "code",
   "execution_count": null,
   "id": "5984234b",
   "metadata": {},
   "outputs": [],
   "source": [
    "Ans. The def statement defines (i.e. creates) a function.\n",
    "Eg .\n",
    "def my_func():\n",
    "pass"
   ]
  },
  {
   "cell_type": "markdown",
   "id": "8993dec3",
   "metadata": {},
   "source": [
    "## Q4. What is the difference between a function and a function call?\n",
    "\n"
   ]
  },
  {
   "cell_type": "code",
   "execution_count": null,
   "id": "03fd34a8",
   "metadata": {},
   "outputs": [],
   "source": [
    "ans. defining function means writing code in it but not executing\n",
    "we can execute that code by calling function () as per out requirement."
   ]
  },
  {
   "cell_type": "markdown",
   "id": "fcf4192c",
   "metadata": {},
   "source": [
    "## Q5. How many global scopes are there in a Python program? How many local scopes?\n",
    "\n"
   ]
  },
  {
   "cell_type": "markdown",
   "id": "fbfeb4ed",
   "metadata": {},
   "source": [
    "Ans .There's only one global Python scope per program execution. This scope remains in existence until the program terminates , and a local scope is created whenever a function is called."
   ]
  },
  {
   "cell_type": "markdown",
   "id": "21a56e0b",
   "metadata": {},
   "source": [
    "## Q6. What happens to variables in a local scope when the function call returns?\n",
    "\n"
   ]
  },
  {
   "cell_type": "markdown",
   "id": "d72ec98a",
   "metadata": {},
   "source": [
    "Ans. When a function returns, the local scope is destroyed.\n",
    "\n"
   ]
  },
  {
   "cell_type": "markdown",
   "id": "a95bb399",
   "metadata": {},
   "source": [
    "## Q7. What is the concept of a return value? Is it possible to have a return value in an expression?\n",
    "\n"
   ]
  },
  {
   "cell_type": "markdown",
   "id": "ac34b8fc",
   "metadata": {},
   "source": [
    "ans  . return value is a output of code evaluation result . a return value can be used as part of an expression"
   ]
  },
  {
   "cell_type": "code",
   "execution_count": 1,
   "id": "84a6c109",
   "metadata": {},
   "outputs": [
    {
     "data": {
      "text/plain": [
       "10"
      ]
     },
     "execution_count": 1,
     "metadata": {},
     "output_type": "execute_result"
    }
   ],
   "source": [
    "def total(a,b):\n",
    "    return a+b\n",
    "total(5, 5)"
   ]
  },
  {
   "cell_type": "markdown",
   "id": "d03572e4",
   "metadata": {},
   "source": [
    "## Q8. If a function does not have a return statement, what is the return value of a call to that function?\n",
    "\n"
   ]
  },
  {
   "cell_type": "markdown",
   "id": "1358ae34",
   "metadata": {},
   "source": [
    "Ans. If the funtion does not have a return statement it will not return anything.\n",
    "\n"
   ]
  },
  {
   "cell_type": "markdown",
   "id": "fe6b3216",
   "metadata": {},
   "source": [
    "## Q9. How do you make a function variable refer to the global variable?\n",
    "\n"
   ]
  },
  {
   "cell_type": "markdown",
   "id": "647d8172",
   "metadata": {},
   "source": [
    "Ans. To make function variable as a global variable you can use the global keyword to declare which variables are global.\n",
    "\n"
   ]
  },
  {
   "cell_type": "markdown",
   "id": "2542e52e",
   "metadata": {},
   "source": [
    "## Q10. What is the data type of None?\n",
    "\n"
   ]
  },
  {
   "cell_type": "code",
   "execution_count": 2,
   "id": "bcfdd908",
   "metadata": {},
   "outputs": [
    {
     "data": {
      "text/plain": [
       "NoneType"
      ]
     },
     "execution_count": 2,
     "metadata": {},
     "output_type": "execute_result"
    }
   ],
   "source": [
    "type(None)"
   ]
  },
  {
   "cell_type": "markdown",
   "id": "688c0a73",
   "metadata": {},
   "source": [
    "## Q11. What does the sentence import areallyourpetsnamederic do?\n",
    "\n"
   ]
  },
  {
   "cell_type": "markdown",
   "id": "0033d122",
   "metadata": {},
   "source": [
    "if that module is not available it will give import error module not found"
   ]
  },
  {
   "cell_type": "markdown",
   "id": "493ed142",
   "metadata": {},
   "source": [
    "## Q12. If you had a bacon() feature in a spam module, what would you call it after importing spam?\n",
    "\n"
   ]
  },
  {
   "cell_type": "markdown",
   "id": "94fe2e1f",
   "metadata": {},
   "source": [
    "Ans .import spam\n",
    "spam.bacon()"
   ]
  },
  {
   "cell_type": "markdown",
   "id": "a0435ec6",
   "metadata": {},
   "source": [
    "## Q13. What can you do to save a programme from crashing if it encounters an error?\n",
    "\n"
   ]
  },
  {
   "cell_type": "code",
   "execution_count": null,
   "id": "b5ed4abb",
   "metadata": {},
   "outputs": [],
   "source": [
    "Ans. We can use try except clause to save a program from crashing."
   ]
  },
  {
   "cell_type": "markdown",
   "id": "3f9b890c",
   "metadata": {},
   "source": [
    "## Q14. What is the purpose of the try clause? What is the purpose of the except clause?\n",
    "\n"
   ]
  },
  {
   "cell_type": "markdown",
   "id": "b3d1e1f2",
   "metadata": {},
   "source": [
    "Ans. Try and Except clause is used to handle the errors within our code . The try block is used to check some code for errors i.e the code inside the try block will execute when there is no error in the program. Whereas the code inside the except block will execute whenever the program encounters some error in the try block.\n",
    "\n"
   ]
  },
  {
   "cell_type": "code",
   "execution_count": null,
   "id": "6b0b266e",
   "metadata": {},
   "outputs": [],
   "source": []
  },
  {
   "cell_type": "code",
   "execution_count": null,
   "id": "9b64a423",
   "metadata": {},
   "outputs": [],
   "source": []
  },
  {
   "cell_type": "code",
   "execution_count": null,
   "id": "f4c10c94",
   "metadata": {},
   "outputs": [],
   "source": []
  },
  {
   "cell_type": "code",
   "execution_count": null,
   "id": "c19482c4",
   "metadata": {},
   "outputs": [],
   "source": []
  },
  {
   "cell_type": "code",
   "execution_count": null,
   "id": "b0a4183f",
   "metadata": {},
   "outputs": [],
   "source": []
  },
  {
   "cell_type": "code",
   "execution_count": null,
   "id": "8586d6bb",
   "metadata": {},
   "outputs": [],
   "source": []
  },
  {
   "cell_type": "code",
   "execution_count": null,
   "id": "970a437e",
   "metadata": {},
   "outputs": [],
   "source": []
  }
 ],
 "metadata": {
  "kernelspec": {
   "display_name": "Python 3 (ipykernel)",
   "language": "python",
   "name": "python3"
  },
  "language_info": {
   "codemirror_mode": {
    "name": "ipython",
    "version": 3
   },
   "file_extension": ".py",
   "mimetype": "text/x-python",
   "name": "python",
   "nbconvert_exporter": "python",
   "pygments_lexer": "ipython3",
   "version": "3.10.2"
  }
 },
 "nbformat": 4,
 "nbformat_minor": 5
}
