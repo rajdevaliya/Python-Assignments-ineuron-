{
 "cells": [
  {
   "cell_type": "markdown",
   "id": "2275e3a4",
   "metadata": {},
   "source": [
    "# 1. What does an empty dictionary&#39;s code look like?"
   ]
  },
  {
   "cell_type": "code",
   "execution_count": null,
   "id": "f4fe6ccc",
   "metadata": {},
   "outputs": [],
   "source": [
    "dictionary = {}"
   ]
  },
  {
   "cell_type": "markdown",
   "id": "932f8a4f",
   "metadata": {},
   "source": [
    "# 2.what is the value of dictionary value with key 'foo' and the value 42 ?\n"
   ]
  },
  {
   "cell_type": "code",
   "execution_count": null,
   "id": "49e8fbbf",
   "metadata": {},
   "outputs": [],
   "source": [
    "dic = {'foo' : 42}"
   ]
  },
  {
   "cell_type": "markdown",
   "id": "60d5aac8",
   "metadata": {},
   "source": [
    "# 3.What is the most significant distinction between a dictionary and a list?\n"
   ]
  },
  {
   "cell_type": "code",
   "execution_count": null,
   "id": "66178b5a",
   "metadata": {},
   "outputs": [],
   "source": [
    "Dict are represented by {} ,, List are represented by []\n",
    "dict are unordered but list are ordered \n",
    "Dict are key , value kind of structure where list are indexed structure"
   ]
  },
  {
   "cell_type": "markdown",
   "id": "1a30fccc",
   "metadata": {},
   "source": [
    "# 4.What happens if you try to access spam ['foo'] if spam is {'bar':100} ?\n"
   ]
  },
  {
   "cell_type": "code",
   "execution_count": null,
   "id": "fac6c171",
   "metadata": {},
   "outputs": [],
   "source": [
    "it will give keyerror"
   ]
  },
  {
   "cell_type": "markdown",
   "id": "de5bb77b",
   "metadata": {},
   "source": [
    "# 5.if a dictionary is stored in spam,what is the difference between the expressions 'cat' in spam and 'cat' in spam.keys() ?\n"
   ]
  },
  {
   "cell_type": "code",
   "execution_count": null,
   "id": "56ae7d55",
   "metadata": {},
   "outputs": [],
   "source": [
    "There is no difference . The operator checks whether a value exits as a key in the dictionary or not"
   ]
  },
  {
   "cell_type": "markdown",
   "id": "684b4273",
   "metadata": {},
   "source": [
    "# 6.if a dictionary is stored in spam,what is the difference between the expressions 'cat' in spam and 'cat' in spam.values() ?\n"
   ]
  },
  {
   "cell_type": "code",
   "execution_count": null,
   "id": "b7b9ac38",
   "metadata": {},
   "outputs": [],
   "source": [
    "'cat' in spam checks whether there is a 'cat' key in the dictionary, while 'cat' in spam.values() checks whether there is a value 'cat' for one of the keys in spam."
   ]
  },
  {
   "cell_type": "markdown",
   "id": "f2ad45a3",
   "metadata": {},
   "source": [
    "# 7.what is a shortcut for the following code ?\n",
    "if 'color' not in spam: spam['color'] ='black'"
   ]
  },
  {
   "cell_type": "code",
   "execution_count": 1,
   "id": "cabe05a0",
   "metadata": {},
   "outputs": [
    {
     "data": {
      "text/plain": [
       "{'color': 'black'}"
      ]
     },
     "execution_count": 1,
     "metadata": {},
     "output_type": "execute_result"
    }
   ],
   "source": [
    "spam = {}\n",
    "spam.setdefault(\"color\", \"black\")\n",
    "spam"
   ]
  },
  {
   "cell_type": "markdown",
   "id": "5633f451",
   "metadata": {},
   "source": [
    "# 8.How do you 'pretty print' dictionary values using which modules and function ?\n"
   ]
  },
  {
   "cell_type": "code",
   "execution_count": null,
   "id": "53e19782",
   "metadata": {},
   "outputs": [],
   "source": [
    "Ans: we can pretty print a dictionary using three functions\n",
    "\n",
    "by using pprint() function of pprint module\n",
    "Note: pprint() function doesnot prettify nested dictionaries\n",
    "by using dumps() method of json module\n",
    "by using dumps() method of yaml module"
   ]
  },
  {
   "cell_type": "code",
   "execution_count": 2,
   "id": "2478619b",
   "metadata": {},
   "outputs": [],
   "source": [
    "import pprint\n",
    "import json\n",
    "import yaml"
   ]
  },
  {
   "cell_type": "code",
   "execution_count": 3,
   "id": "f98eb7cf",
   "metadata": {},
   "outputs": [],
   "source": [
    "ndict = [\n",
    "  {'Name': 'John', 'Age': '23', 'Residence': {'Country':'USA', 'City': 'New York'}},\n",
    "  {'Name': 'Jose', 'Age': '44', 'Residence': {'Country':'Spain', 'City': 'Madrid'}},\n",
    "  {'Name': 'Anne', 'Age': '29', 'Residence': {'Country':'UK', 'City': 'England'}},\n",
    "  {'Name': 'Lee', 'Age': '35', 'Residence': {'Country':'Japan', 'City': 'Osaka'}}\n",
    "]\n"
   ]
  },
  {
   "cell_type": "code",
   "execution_count": 4,
   "id": "504b249c",
   "metadata": {},
   "outputs": [
    {
     "name": "stdout",
     "output_type": "stream",
     "text": [
      "[{'Age': '23',\n",
      "  'Name': 'John',\n",
      "  'Residence': {'City': 'New York', 'Country': 'USA'}},\n",
      " {'Age': '44',\n",
      "  'Name': 'Jose',\n",
      "  'Residence': {'City': 'Madrid', 'Country': 'Spain'}},\n",
      " {'Age': '29',\n",
      "  'Name': 'Anne',\n",
      "  'Residence': {'City': 'England', 'Country': 'UK'}},\n",
      " {'Age': '35',\n",
      "  'Name': 'Lee',\n",
      "  'Residence': {'City': 'Osaka', 'Country': 'Japan'}}]\n"
     ]
    }
   ],
   "source": [
    "pprint.pprint(ndict)"
   ]
  },
  {
   "cell_type": "code",
   "execution_count": 11,
   "id": "c7eb7b1f",
   "metadata": {},
   "outputs": [
    {
     "data": {
      "text/plain": [
       "'[{\"Name\": \"John\", \"Age\": \"23\", \"Residence\": {\"Country\": \"USA\", \"City\": \"New York\"}}, {\"Name\": \"Jose\", \"Age\": \"44\", \"Residence\": {\"Country\": \"Spain\", \"City\": \"Madrid\"}}, {\"Name\": \"Anne\", \"Age\": \"29\", \"Residence\": {\"Country\": \"UK\", \"City\": \"England\"}}, {\"Name\": \"Lee\", \"Age\": \"35\", \"Residence\": {\"Country\": \"Japan\", \"City\": \"Osaka\"}}]'"
      ]
     },
     "execution_count": 11,
     "metadata": {},
     "output_type": "execute_result"
    }
   ],
   "source": [
    "json.dumps(ndict)"
   ]
  },
  {
   "cell_type": "code",
   "execution_count": 12,
   "id": "1bb83e7a",
   "metadata": {},
   "outputs": [
    {
     "data": {
      "text/plain": [
       "\"- Age: '23'\\n  Name: John\\n  Residence:\\n    City: New York\\n    Country: USA\\n- Age: '44'\\n  Name: Jose\\n  Residence:\\n    City: Madrid\\n    Country: Spain\\n- Age: '29'\\n  Name: Anne\\n  Residence:\\n    City: England\\n    Country: UK\\n- Age: '35'\\n  Name: Lee\\n  Residence:\\n    City: Osaka\\n    Country: Japan\\n\""
      ]
     },
     "execution_count": 12,
     "metadata": {},
     "output_type": "execute_result"
    }
   ],
   "source": [
    "yaml.dump(ndict)"
   ]
  },
  {
   "cell_type": "code",
   "execution_count": 13,
   "id": "38a6cc80",
   "metadata": {},
   "outputs": [
    {
     "name": "stdout",
     "output_type": "stream",
     "text": [
      "[{'Name': 'John', 'Age': '23', 'Residence': {'Country': 'USA', 'City': 'New York'}}, {'Name': 'Jose', 'Age': '44', 'Residence': {'Country': 'Spain', 'City': 'Madrid'}}, {'Name': 'Anne', 'Age': '29', 'Residence': {'Country': 'UK', 'City': 'England'}}, {'Name': 'Lee', 'Age': '35', 'Residence': {'Country': 'Japan', 'City': 'Osaka'}}]\n"
     ]
    }
   ],
   "source": [
    "print(ndict)"
   ]
  },
  {
   "cell_type": "code",
   "execution_count": null,
   "id": "c72947dc",
   "metadata": {},
   "outputs": [],
   "source": []
  },
  {
   "cell_type": "code",
   "execution_count": null,
   "id": "6e56feb8",
   "metadata": {},
   "outputs": [],
   "source": []
  },
  {
   "cell_type": "code",
   "execution_count": null,
   "id": "ca1b30be",
   "metadata": {},
   "outputs": [],
   "source": []
  },
  {
   "cell_type": "code",
   "execution_count": null,
   "id": "0d1645c5",
   "metadata": {},
   "outputs": [],
   "source": []
  },
  {
   "cell_type": "code",
   "execution_count": null,
   "id": "b9f7e9f7",
   "metadata": {},
   "outputs": [],
   "source": []
  },
  {
   "cell_type": "code",
   "execution_count": null,
   "id": "cf1318bc",
   "metadata": {},
   "outputs": [],
   "source": []
  },
  {
   "cell_type": "code",
   "execution_count": null,
   "id": "f53c60d7",
   "metadata": {},
   "outputs": [],
   "source": []
  },
  {
   "cell_type": "code",
   "execution_count": null,
   "id": "1b13708d",
   "metadata": {},
   "outputs": [],
   "source": []
  },
  {
   "cell_type": "code",
   "execution_count": null,
   "id": "1ee99109",
   "metadata": {},
   "outputs": [],
   "source": []
  },
  {
   "cell_type": "code",
   "execution_count": null,
   "id": "47b10389",
   "metadata": {},
   "outputs": [],
   "source": []
  },
  {
   "cell_type": "code",
   "execution_count": null,
   "id": "dc85e4df",
   "metadata": {},
   "outputs": [],
   "source": []
  },
  {
   "cell_type": "code",
   "execution_count": null,
   "id": "7bcae68d",
   "metadata": {},
   "outputs": [],
   "source": []
  }
 ],
 "metadata": {
  "kernelspec": {
   "display_name": "Python 3 (ipykernel)",
   "language": "python",
   "name": "python3"
  },
  "language_info": {
   "codemirror_mode": {
    "name": "ipython",
    "version": 3
   },
   "file_extension": ".py",
   "mimetype": "text/x-python",
   "name": "python",
   "nbconvert_exporter": "python",
   "pygments_lexer": "ipython3",
   "version": "3.11.1"
  }
 },
 "nbformat": 4,
 "nbformat_minor": 5
}
