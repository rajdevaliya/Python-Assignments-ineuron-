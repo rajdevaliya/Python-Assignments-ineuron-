{
 "cells": [
  {
   "cell_type": "markdown",
   "id": "c0901779",
   "metadata": {},
   "source": [
    "## 1.Write a Python Program to find sum of elements in a list ?\n"
   ]
  },
  {
   "cell_type": "code",
   "execution_count": 1,
   "id": "c73306ce",
   "metadata": {},
   "outputs": [
    {
     "name": "stdout",
     "output_type": "stream",
     "text": [
      "Enter a number of Entries in List :5\n",
      "Enter your number :2\n",
      "Enter your number :3\n",
      "Enter your number :4\n",
      "Enter your number :5\n",
      "Enter your number :6\n",
      "Sum of your List is 20\n"
     ]
    }
   ],
   "source": [
    "def sum_of_list():\n",
    "    no_of_ele = int(input(\"Enter a number of Entries in List :\"))\n",
    "    list_of_ele = []\n",
    "    for i in range(no_of_ele):\n",
    "        list_of_ele.append(int(input(\"Enter your number :\")))\n",
    "    print(f\"Sum of your List is {sum(list_of_ele)}\")\n",
    "sum_of_list()"
   ]
  },
  {
   "cell_type": "markdown",
   "id": "b04111e4",
   "metadata": {},
   "source": [
    "## 2.Write a Python Program to multiply all numbers in the list ?\n"
   ]
  },
  {
   "cell_type": "code",
   "execution_count": 2,
   "id": "9ad51874",
   "metadata": {},
   "outputs": [
    {
     "name": "stdout",
     "output_type": "stream",
     "text": [
      "Enter the No of Entries in a List: 5\n",
      "Enter a element: 2\n",
      "Enter a element: 3\n",
      "Enter a element: 4\n",
      "Enter a element: 5\n",
      "Enter a element: 6\n",
      "720\n"
     ]
    }
   ],
   "source": [
    "def mulofList():\n",
    "    in_ele = int(input('Enter the No of Entries in a List: '))\n",
    "    in_list = []\n",
    "    mul = 1\n",
    "    for itr in range(in_ele):\n",
    "        in_list.append(int(input('Enter a element: ')))\n",
    "    for ele in in_list:\n",
    "        mul = mul * ele\n",
    "    print(mul)\n",
    "\n",
    "mulofList()"
   ]
  },
  {
   "cell_type": "markdown",
   "id": "bd85a98e",
   "metadata": {},
   "source": [
    "## 3.Write a Python Program to find smallest number in the list ?\n"
   ]
  },
  {
   "cell_type": "code",
   "execution_count": 3,
   "id": "ee8be3ca",
   "metadata": {},
   "outputs": [
    {
     "name": "stdout",
     "output_type": "stream",
     "text": [
      "Enter the No of elements in a list: 5\n",
      "Enter a Element: 5\n",
      "Enter a Element: 6\n",
      "Enter a Element: 4\n",
      "Enter a Element: 8\n",
      "Enter a Element: 9\n",
      "The Smallest Element in [5, 6, 4, 8, 9] is 4\n"
     ]
    }
   ],
   "source": [
    "def smallEleInList():\n",
    "    in_ele = int(input('Enter the No of elements in a list: '))\n",
    "    in_list = []\n",
    "    for ele in range(in_ele):\n",
    "        in_list.append(int(input('Enter a Element: ')))\n",
    "    print(f'The Smallest Element in {in_list} is {sorted(in_list)[0]}')\n",
    "smallEleInList()"
   ]
  },
  {
   "cell_type": "markdown",
   "id": "c22f58fe",
   "metadata": {},
   "source": [
    "## 4.Write a Python Program to find largest number in the list ?\n"
   ]
  },
  {
   "cell_type": "code",
   "execution_count": 4,
   "id": "40231de9",
   "metadata": {},
   "outputs": [
    {
     "name": "stdout",
     "output_type": "stream",
     "text": [
      "Enter the No of elements in a list: 5\n",
      "Enter a Element: 12\n",
      "Enter a Element: 4\n",
      "Enter a Element: 8\n",
      "Enter a Element: 9\n",
      "Enter a Element: 15\n",
      "The Largest Element in [12, 4, 8, 9, 15] is 15\n"
     ]
    }
   ],
   "source": [
    "def largestEleInList():\n",
    "    in_ele = int(input('Enter the No of elements in a list: '))\n",
    "    in_list = []\n",
    "    for ele in range(in_ele):\n",
    "        in_list.append(int(input('Enter a Element: ')))\n",
    "    print(f'The Largest Element in {in_list} is {sorted(in_list, reverse=True)[0]}')\n",
    "\n",
    "largestEleInList()"
   ]
  },
  {
   "cell_type": "markdown",
   "id": "337824a0",
   "metadata": {},
   "source": [
    "## 5.Write a Python Program to find second largest number in the list ?\n"
   ]
  },
  {
   "cell_type": "code",
   "execution_count": 5,
   "id": "861bca68",
   "metadata": {},
   "outputs": [
    {
     "name": "stdout",
     "output_type": "stream",
     "text": [
      "Enter the No of elements in a list: 5\n",
      "Enter a Element: 2\n",
      "Enter a Element: 3\n",
      "Enter a Element: 4\n",
      "Enter a Element: 5\n",
      "Enter a Element: 6\n",
      "The Second Largest Element in [2, 3, 4, 5, 6] is 5\n"
     ]
    }
   ],
   "source": [
    "def secondLargestEleInList():\n",
    "    in_ele = int(input('Enter the No of elements in a list: '))\n",
    "    in_list = []\n",
    "    for ele in range(in_ele):\n",
    "        in_list.append(int(input('Enter a Element: ')))\n",
    "    print(f'The Second Largest Element in {in_list} is {sorted(in_list, reverse=True)[1]}')\n",
    "\n",
    "secondLargestEleInList()"
   ]
  },
  {
   "cell_type": "markdown",
   "id": "1a4cb07e",
   "metadata": {},
   "source": [
    "## 6.Write a Python Program to find N largest elements in the list ?\n"
   ]
  },
  {
   "cell_type": "code",
   "execution_count": 7,
   "id": "ed9b00a3",
   "metadata": {},
   "outputs": [
    {
     "name": "stdout",
     "output_type": "stream",
     "text": [
      "Enter the No of elements in a list: 5\n",
      "Enter a Element: 1\n",
      "Enter a Element: 2\n",
      "Enter a Element: 3\n",
      "Enter a Element: 4\n",
      "Enter a Element: 56\n",
      "The 4 Largest Element in [1, 2, 3, 4, 56] is [56, 4, 3, 2]\n"
     ]
    }
   ],
   "source": [
    "def nLargestEleInList(k):\n",
    "    in_ele = int(input('Enter the No of elements in a list: '))\n",
    "    in_list = []\n",
    "    for ele in range(in_ele):\n",
    "        in_list.append(int(input('Enter a Element: ')))\n",
    "    print(f'The {k} Largest Element in {in_list} is {sorted(in_list, reverse=True)[0:k]}')\n",
    "\n",
    "nLargestEleInList(4)\n"
   ]
  },
  {
   "cell_type": "markdown",
   "id": "dc77e2e8",
   "metadata": {},
   "source": [
    "## 7.Write a Python Program to find even numbers in the list ?\n"
   ]
  },
  {
   "cell_type": "code",
   "execution_count": 8,
   "id": "72073637",
   "metadata": {},
   "outputs": [
    {
     "name": "stdout",
     "output_type": "stream",
     "text": [
      "Enter the No of elements in a list: 5\n",
      "Enter a Element: 1\n",
      "Enter a Element: 2\n",
      "Enter a Element: 3\n",
      "Enter a Element: 4\n",
      "Enter a Element: 5\n",
      "The Even Elements in [1, 2, 3, 4, 5] are [2, 4]\n"
     ]
    }
   ],
   "source": [
    "def evenNoInList():\n",
    "    in_ele = int(input('Enter the No of elements in a list: '))\n",
    "    in_list = []\n",
    "    even_list = []\n",
    "    for ele in range(in_ele):\n",
    "        in_list.append(int(input('Enter a Element: ')))\n",
    "    for ele in in_list:\n",
    "        if ele%2 == 0:\n",
    "            even_list.append(ele)\n",
    "    print(f'The Even Elements in {in_list} are {even_list}')\n",
    "\n",
    "evenNoInList()"
   ]
  },
  {
   "cell_type": "markdown",
   "id": "803b9738",
   "metadata": {},
   "source": [
    "## 8.Write a Python Program to find odd numbers in the list ?\n"
   ]
  },
  {
   "cell_type": "code",
   "execution_count": 10,
   "id": "47b42d33",
   "metadata": {},
   "outputs": [
    {
     "name": "stdout",
     "output_type": "stream",
     "text": [
      "Enter the No of elements in a list: 5\n",
      "Enter a Element: 1\n",
      "Enter a Element: 2\n",
      "Enter a Element: 3\n",
      "Enter a Element: 4\n",
      "Enter a Element: 5\n",
      "The Even Elements in [1, 2, 3, 4, 5] are [1, 3, 5]\n"
     ]
    }
   ],
   "source": [
    "def oddNoInList():\n",
    "    in_ele = int(input('Enter the No of elements in a list: '))\n",
    "    in_list = []\n",
    "    odd_list = []\n",
    "    for ele in range(in_ele):\n",
    "        in_list.append(int(input('Enter a Element: ')))\n",
    "    for ele in in_list:\n",
    "        if ele%2 != 0:\n",
    "            odd_list.append(ele)\n",
    "    print(f'The Even Elements in {in_list} are {odd_list}')\n",
    "\n",
    "oddNoInList()"
   ]
  },
  {
   "cell_type": "markdown",
   "id": "42ef8118",
   "metadata": {},
   "source": [
    "## 9.Write a Python Program to remove empty list from list ?\n"
   ]
  },
  {
   "cell_type": "code",
   "execution_count": 11,
   "id": "42ab314e",
   "metadata": {},
   "outputs": [
    {
     "name": "stdout",
     "output_type": "stream",
     "text": [
      "Enter all elements of the list: [1,2,3,4,5,[],6,7,8,9,0]\n",
      "There is an Empty list in [1, 2, 3, 4, 5, [], 6, 7, 8, 9, 0] at Position 5\n",
      "The List after removing [] is [1, 2, 3, 4, 5, 6, 7, 8, 9, 0]\n"
     ]
    }
   ],
   "source": [
    "def checkEmptyList():\n",
    "    in_list = eval(input('Enter all elements of the list: '))\n",
    "    if [] in in_list:\n",
    "        print(f'There is an Empty list in {in_list} at Position {in_list.index([])}')\n",
    "        in_list.remove([])\n",
    "        print(f'The List after removing [] is {in_list}')\n",
    "    else:\n",
    "        print(f'There is no [] List in the list {in_list}')\n",
    "        \n",
    "checkEmptyList()"
   ]
  },
  {
   "cell_type": "markdown",
   "id": "c187888b",
   "metadata": {},
   "source": [
    "## 10.Write a Python Program to Cloning or Copying a list ?\n"
   ]
  },
  {
   "cell_type": "code",
   "execution_count": 1,
   "id": "48a0efaf",
   "metadata": {},
   "outputs": [
    {
     "name": "stdout",
     "output_type": "stream",
     "text": [
      "Enter a list :[1,2,3,4]\n",
      "in_list 2362003932992\n",
      "new_list 2361991104064\n"
     ]
    }
   ],
   "source": [
    "import copy\n",
    "def clone_list():\n",
    "    in_list = eval(input(\"Enter a list :\"))\n",
    "    print(\"in_list\", id(in_list))\n",
    "    new_list = in_list.copy()\n",
    "    print(\"new_list\", id(new_list))\n",
    "clone_list()"
   ]
  },
  {
   "cell_type": "markdown",
   "id": "100d9de4",
   "metadata": {},
   "source": [
    "## 11.Write a Python Program to count occurences of an element in a list ?\n"
   ]
  },
  {
   "cell_type": "code",
   "execution_count": 2,
   "id": "dc996008",
   "metadata": {},
   "outputs": [
    {
     "name": "stdout",
     "output_type": "stream",
     "text": [
      "Enter the elements of the list: [1,2,3,1,2,3,1,2,3,4,5,6,4,5,6]\n",
      "Enter the element to find: 3\n",
      "There are 3 occurences of 3 in [1, 2, 3, 1, 2, 3, 1, 2, 3, 4, 5, 6, 4, 5, 6]\n"
     ]
    }
   ],
   "source": [
    "def checkOccurence():\n",
    "    in_list = eval(input('Enter the elements of the list: '))\n",
    "    in_num = eval(input('Enter the element to find: '))\n",
    "    count = 0\n",
    "    if in_num in in_list:\n",
    "        for ele in in_list:\n",
    "            if ele == in_num:\n",
    "                count = count+1\n",
    "    print(f'There are {count} occurences of {in_num} in {in_list}')\n",
    "    \n",
    "checkOccurence()"
   ]
  },
  {
   "cell_type": "code",
   "execution_count": null,
   "id": "92ed511c",
   "metadata": {},
   "outputs": [],
   "source": []
  }
 ],
 "metadata": {
  "kernelspec": {
   "display_name": "Python 3 (ipykernel)",
   "language": "python",
   "name": "python3"
  },
  "language_info": {
   "codemirror_mode": {
    "name": "ipython",
    "version": 3
   },
   "file_extension": ".py",
   "mimetype": "text/x-python",
   "name": "python",
   "nbconvert_exporter": "python",
   "pygments_lexer": "ipython3",
   "version": "3.10.1"
  }
 },
 "nbformat": 4,
 "nbformat_minor": 5
}
