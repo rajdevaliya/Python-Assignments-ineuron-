{
 "cells": [
  {
   "cell_type": "markdown",
   "id": "b4b15a17",
   "metadata": {},
   "source": [
    "## 1. Write a Python Program to find sum of Array ?\n"
   ]
  },
  {
   "cell_type": "code",
   "execution_count": 2,
   "id": "53fdff99",
   "metadata": {},
   "outputs": [],
   "source": [
    "def sumOfArray():\n",
    "    input_arr = eval(input(\"Enter your array to sum :\"))\n",
    "    print(f\"sum of {input_arr} is {sum(input_arr)}\")"
   ]
  },
  {
   "cell_type": "code",
   "execution_count": 3,
   "id": "25ce98fd",
   "metadata": {},
   "outputs": [
    {
     "name": "stdout",
     "output_type": "stream",
     "text": [
      "Enter your array to sum :[1,2,3,4,5,6]\n",
      "sum of [1, 2, 3, 4, 5, 6] is 21\n"
     ]
    }
   ],
   "source": [
    "sumOfArray()"
   ]
  },
  {
   "cell_type": "markdown",
   "id": "151b10f2",
   "metadata": {},
   "source": [
    "## 2. Write a Python Program to find Largest element in an Array ?\n"
   ]
  },
  {
   "cell_type": "code",
   "execution_count": 4,
   "id": "a4d53459",
   "metadata": {},
   "outputs": [],
   "source": [
    "def largNumber():\n",
    "    input_arr = eval(input(\"Enter your array :\"))\n",
    "    print(f\"large number in {input_arr} is {sorted(input_arr, reverse=True)[0]}\")"
   ]
  },
  {
   "cell_type": "code",
   "execution_count": 5,
   "id": "a3028306",
   "metadata": {},
   "outputs": [
    {
     "name": "stdout",
     "output_type": "stream",
     "text": [
      "Enter your array :[1,2,3,36,80,100]\n",
      "large number in [1, 2, 3, 36, 80, 100] is 100\n"
     ]
    }
   ],
   "source": [
    "largNumber()"
   ]
  },
  {
   "cell_type": "markdown",
   "id": "ea5b0532",
   "metadata": {},
   "source": [
    "## 3. Write a Python Program for array rotation ?\n"
   ]
  },
  {
   "cell_type": "code",
   "execution_count": 6,
   "id": "1277675b",
   "metadata": {},
   "outputs": [],
   "source": [
    "def reverseArray():\n",
    "    input_array = eval(input(\"Enter your array :\"))\n",
    "    print(f\"reveresed array is {input_array[::-1]}\")"
   ]
  },
  {
   "cell_type": "code",
   "execution_count": 7,
   "id": "e2dc8f34",
   "metadata": {},
   "outputs": [
    {
     "name": "stdout",
     "output_type": "stream",
     "text": [
      "Enter your array :[1,2,3,4,5,6,7,8]\n",
      "reveresed array is [8, 7, 6, 5, 4, 3, 2, 1]\n"
     ]
    }
   ],
   "source": [
    "reverseArray()"
   ]
  },
  {
   "cell_type": "markdown",
   "id": "c3377b57",
   "metadata": {},
   "source": [
    "## 4. Write a Python Program to Split the array and add the first part to the end ?\n"
   ]
  },
  {
   "cell_type": "code",
   "execution_count": 8,
   "id": "0d605c43",
   "metadata": {},
   "outputs": [
    {
     "name": "stdout",
     "output_type": "stream",
     "text": [
      "Enter the Array: [25,30,25,35,45]\n",
      "The Sum of First and Last Elements of Array [25, 30, 25, 35, 45] is 70\n"
     ]
    }
   ],
   "source": [
    "def sumOfSplits():\n",
    "    in_arr = eval(input(\"Enter the Array: \"))\n",
    "    print(f\"The Sum of First and Last Elements of Array {in_arr} is {in_arr[0]+in_arr[-1]}\")\n",
    "    \n",
    "sumOfSplits()"
   ]
  },
  {
   "cell_type": "markdown",
   "id": "589c1fa3",
   "metadata": {},
   "source": [
    "## 5. Write a Python Program to check if given array is Monotonic ?\n"
   ]
  },
  {
   "cell_type": "code",
   "execution_count": 9,
   "id": "0238b452",
   "metadata": {},
   "outputs": [
    {
     "name": "stdout",
     "output_type": "stream",
     "text": [
      "Enter your array:[1,2,3,4,6,8]\n",
      "array is monotonic\n"
     ]
    }
   ],
   "source": [
    "def checkMonotonic():\n",
    "    in_arr = eval(input(\"Enter your array:\"))\n",
    "    if all(in_arr[i] <= in_arr[i+1] for i in range(len(in_arr)-1)):\n",
    "        print(\"array is monotonic\")\n",
    "    else:\n",
    "        print(\"not monotonic\")\n",
    "checkMonotonic()"
   ]
  },
  {
   "cell_type": "code",
   "execution_count": null,
   "id": "3327e872",
   "metadata": {},
   "outputs": [],
   "source": []
  },
  {
   "cell_type": "code",
   "execution_count": null,
   "id": "5559c3cd",
   "metadata": {},
   "outputs": [],
   "source": []
  },
  {
   "cell_type": "code",
   "execution_count": null,
   "id": "e815877c",
   "metadata": {},
   "outputs": [],
   "source": []
  },
  {
   "cell_type": "code",
   "execution_count": null,
   "id": "12204895",
   "metadata": {},
   "outputs": [],
   "source": []
  },
  {
   "cell_type": "code",
   "execution_count": null,
   "id": "64ff5a70",
   "metadata": {},
   "outputs": [],
   "source": []
  },
  {
   "cell_type": "code",
   "execution_count": null,
   "id": "27915c10",
   "metadata": {},
   "outputs": [],
   "source": []
  },
  {
   "cell_type": "code",
   "execution_count": null,
   "id": "da715ded",
   "metadata": {},
   "outputs": [],
   "source": []
  },
  {
   "cell_type": "code",
   "execution_count": null,
   "id": "33b81717",
   "metadata": {},
   "outputs": [],
   "source": []
  }
 ],
 "metadata": {
  "kernelspec": {
   "display_name": "Python 3 (ipykernel)",
   "language": "python",
   "name": "python3"
  },
  "language_info": {
   "codemirror_mode": {
    "name": "ipython",
    "version": 3
   },
   "file_extension": ".py",
   "mimetype": "text/x-python",
   "name": "python",
   "nbconvert_exporter": "python",
   "pygments_lexer": "ipython3",
   "version": "3.10.1"
  }
 },
 "nbformat": 4,
 "nbformat_minor": 5
}
