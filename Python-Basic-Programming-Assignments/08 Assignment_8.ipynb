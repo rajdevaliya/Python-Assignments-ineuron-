{
 "cells": [
  {
   "cell_type": "markdown",
   "id": "de3ab1a3",
   "metadata": {},
   "source": [
    "## 1. Write a Python Program to Add two Matrices ?\n"
   ]
  },
  {
   "cell_type": "code",
   "execution_count": 10,
   "id": "549b9a22",
   "metadata": {},
   "outputs": [],
   "source": [
    "def addMatrix(a, b):\n",
    "    print(f\"input : {a}, {b}\")\n",
    "    output = []\n",
    "    if len(a) == len(b):\n",
    "        for ele in range(len(a)):\n",
    "            if len(a[ele]) == len(b[ele]):\n",
    "                output.append([])\n",
    "                for sub_ele in range(len(a[ele])):\n",
    "                    output[ele].append(a[ele][sub_ele] + b[ele][sub_ele])\n",
    "        \n",
    "            else:\n",
    "                print(\"length of row and column should be same\")\n",
    "    else:\n",
    "        print(\"length of two matrics should be equal\")\n",
    "    print(f\"output : {output}\")\n",
    "   "
   ]
  },
  {
   "cell_type": "code",
   "execution_count": 11,
   "id": "61c164ea",
   "metadata": {},
   "outputs": [
    {
     "name": "stdout",
     "output_type": "stream",
     "text": [
      "input : [[1, 2, 3], [4, 5, 6], [7, 8, 9]], [[9, 8, 7], [6, 5, 4], [3, 2, 1]]\n",
      "output : [[10, 10, 10], [10, 10, 10], [10, 10, 10]]\n"
     ]
    }
   ],
   "source": [
    "addMatrix([[1,2,3],[4,5,6],[7,8,9]], [[9,8,7],[6,5,4],[3,2,1]])"
   ]
  },
  {
   "cell_type": "code",
   "execution_count": 13,
   "id": "a3c7e6be",
   "metadata": {},
   "outputs": [
    {
     "data": {
      "text/plain": [
       "array([[10, 10, 10],\n",
       "       [10, 10, 10],\n",
       "       [10, 10, 10]])"
      ]
     },
     "execution_count": 13,
     "metadata": {},
     "output_type": "execute_result"
    }
   ],
   "source": [
    "## using numpy\n",
    "import numpy as np\n",
    "matrix_1 = [[1, 2, 3], [4, 5, 6], [7, 8, 9]]\n",
    "matrix_2 = [[9, 8, 7], [6, 5, 4], [3, 2, 1]]\n",
    "sum_matrix = np.add(matrix_1, matrix_2)\n",
    "sum_matrix"
   ]
  },
  {
   "cell_type": "markdown",
   "id": "9ee87046",
   "metadata": {},
   "source": [
    "## 2. Write a Python Program to Multiply two Matrices ?\n"
   ]
  },
  {
   "cell_type": "code",
   "execution_count": 18,
   "id": "3edbe776",
   "metadata": {},
   "outputs": [],
   "source": [
    "def mulMatrix(a, b):\n",
    "    output = []\n",
    "    if len(a) == len(b):\n",
    "        for ele in range(len(a)):\n",
    "            if len(a[ele]) == len(b[ele]):\n",
    "                output.append([])\n",
    "                for sub_ele in range(len(a[ele])):\n",
    "                    output[ele].append(a[ele][sub_ele] * b[ele][sub_ele])\n",
    "            else:\n",
    "                print(\"length of matrics must be same\")\n",
    "    else:\n",
    "        print(f\"length of matrics must be same\")\n",
    "    print(f\"output : {output}\")"
   ]
  },
  {
   "cell_type": "code",
   "execution_count": 19,
   "id": "509a821e",
   "metadata": {},
   "outputs": [
    {
     "name": "stdout",
     "output_type": "stream",
     "text": [
      "output : [[9, 16, 21], [24, 25, 24], [21, 16, 9]]\n"
     ]
    }
   ],
   "source": [
    "mulMatrix([[1,2,3],[4,5,6],[7,8,9]], [[9,8,7],[6,5,4],[3,2,1]])"
   ]
  },
  {
   "cell_type": "code",
   "execution_count": 20,
   "id": "3abd5375",
   "metadata": {},
   "outputs": [
    {
     "data": {
      "text/plain": [
       "array([[ 9, 16, 21],\n",
       "       [24, 25, 24],\n",
       "       [21, 16,  9]])"
      ]
     },
     "execution_count": 20,
     "metadata": {},
     "output_type": "execute_result"
    }
   ],
   "source": [
    "## using numpy\n",
    "multiply = np.multiply(matrix_1, matrix_2)\n",
    "multiply"
   ]
  },
  {
   "cell_type": "markdown",
   "id": "66aee726",
   "metadata": {},
   "source": [
    "## 3. Write a Python Program to transpose a Matrix ?\n"
   ]
  },
  {
   "cell_type": "code",
   "execution_count": 23,
   "id": "637bfb05",
   "metadata": {},
   "outputs": [],
   "source": [
    "a = [[1,2,3],[4,5,6],[7,8,9]]\n",
    "b = [[1,2],[4,5],[7,8]]\n",
    "c = [[1,2,3],[4,5,6]]\n"
   ]
  },
  {
   "cell_type": "code",
   "execution_count": 29,
   "id": "c2cc396b",
   "metadata": {},
   "outputs": [
    {
     "name": "stdout",
     "output_type": "stream",
     "text": [
      "[[1, 2, 3], [4, 5, 6], [7, 8, 9]] -> [[1, 4, 7], [2, 5, 8], [3, 6, 9]]\n",
      "[[1, 2], [4, 5], [7, 8]] -> [[1, 4, 7], [2, 5, 8]]\n",
      "[[1, 2, 3], [4, 5, 6]] -> [[1, 4], [2, 5], [3, 6]]\n"
     ]
    }
   ],
   "source": [
    "def generate_transpose(in_matrix):\n",
    "    out_matrix = []\n",
    "    for ele in range(len(in_matrix[0])):\n",
    "        out_matrix.append([0 for i in range(len(in_matrix))])\n",
    "    for i in range(len(in_matrix)):\n",
    "        for j in range(len(in_matrix[i])):\n",
    "            out_matrix[j][i] = in_matrix[i][j]\n",
    "    print(f'{in_matrix} -> {out_matrix}')\n",
    "        \n",
    "generate_transpose(a)\n",
    "generate_transpose(b)\n",
    "generate_transpose(c)"
   ]
  },
  {
   "cell_type": "code",
   "execution_count": 30,
   "id": "8d7dbfbd",
   "metadata": {},
   "outputs": [
    {
     "data": {
      "text/plain": [
       "array([[1, 4, 7],\n",
       "       [2, 5, 8],\n",
       "       [3, 6, 9]])"
      ]
     },
     "execution_count": 30,
     "metadata": {},
     "output_type": "execute_result"
    }
   ],
   "source": [
    "## using np\n",
    "np.transpose(a)"
   ]
  },
  {
   "cell_type": "markdown",
   "id": "f5200739",
   "metadata": {},
   "source": [
    "## 4. Write a Python Program to sort Words in an Alphabatical Order ?\n"
   ]
  },
  {
   "cell_type": "code",
   "execution_count": 34,
   "id": "1aaae79a",
   "metadata": {},
   "outputs": [
    {
     "name": "stdout",
     "output_type": "stream",
     "text": [
      "Enter string :machine_learning nlp deep_learning computer_vision odoo\n",
      "Computer_Vision Deep_Learning Machine_Learning Nlp Odoo\n"
     ]
    }
   ],
   "source": [
    "def sortedString():\n",
    "    in_string = input(\"Enter string :\").title()\n",
    "    sorted_list = sorted(in_string.split(\" \"))\n",
    "    print(\" \".join(sorted_list))\n",
    "sortedString()"
   ]
  },
  {
   "cell_type": "markdown",
   "id": "fefa3a63",
   "metadata": {},
   "source": [
    "## 5. Write a Python Program to remove Punctuations From a String ?\n"
   ]
  },
  {
   "cell_type": "code",
   "execution_count": 35,
   "id": "d2d8ed93",
   "metadata": {},
   "outputs": [
    {
     "name": "stdout",
     "output_type": "stream",
     "text": [
      "Enter a String: \"Full Stacks DS\" @ Ineuron \n",
      "Full Stacks DS  Ineuron \n"
     ]
    }
   ],
   "source": [
    "def removePunctuatuions():\n",
    "    punctuations = '''!()-[]{};:'\"\\,<>./?@#$%^&*_~'''\n",
    "    in_string = input('Enter a String: ')\n",
    "    out_string = ''\n",
    "    for ele in in_string:\n",
    "        if ele not in punctuations:\n",
    "            out_string += ele\n",
    "    print(out_string)\n",
    "removePunctuatuions()"
   ]
  },
  {
   "cell_type": "code",
   "execution_count": null,
   "id": "55623fa1",
   "metadata": {},
   "outputs": [],
   "source": []
  },
  {
   "cell_type": "code",
   "execution_count": null,
   "id": "799b8c82",
   "metadata": {},
   "outputs": [],
   "source": []
  },
  {
   "cell_type": "code",
   "execution_count": null,
   "id": "b9958bf4",
   "metadata": {},
   "outputs": [],
   "source": []
  },
  {
   "cell_type": "code",
   "execution_count": null,
   "id": "dc83b8d5",
   "metadata": {},
   "outputs": [],
   "source": []
  },
  {
   "cell_type": "code",
   "execution_count": null,
   "id": "2dfe6e2d",
   "metadata": {},
   "outputs": [],
   "source": []
  },
  {
   "cell_type": "code",
   "execution_count": null,
   "id": "7993dbb0",
   "metadata": {},
   "outputs": [],
   "source": []
  },
  {
   "cell_type": "code",
   "execution_count": null,
   "id": "28e304a6",
   "metadata": {},
   "outputs": [],
   "source": []
  },
  {
   "cell_type": "code",
   "execution_count": null,
   "id": "51750d4e",
   "metadata": {},
   "outputs": [],
   "source": []
  },
  {
   "cell_type": "code",
   "execution_count": null,
   "id": "0940f59a",
   "metadata": {},
   "outputs": [],
   "source": []
  },
  {
   "cell_type": "code",
   "execution_count": null,
   "id": "ee20cc11",
   "metadata": {},
   "outputs": [],
   "source": []
  }
 ],
 "metadata": {
  "kernelspec": {
   "display_name": "Python 3 (ipykernel)",
   "language": "python",
   "name": "python3"
  },
  "language_info": {
   "codemirror_mode": {
    "name": "ipython",
    "version": 3
   },
   "file_extension": ".py",
   "mimetype": "text/x-python",
   "name": "python",
   "nbconvert_exporter": "python",
   "pygments_lexer": "ipython3",
   "version": "3.10.1"
  }
 },
 "nbformat": 4,
 "nbformat_minor": 5
}
