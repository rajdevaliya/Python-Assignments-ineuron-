{
 "cells": [
  {
   "cell_type": "markdown",
   "id": "8d083d53",
   "metadata": {},
   "source": [
    "# 1. Write a Python program to print &quot;Hello Python&quot;?\n"
   ]
  },
  {
   "cell_type": "code",
   "execution_count": 7,
   "id": "cb68e84a",
   "metadata": {},
   "outputs": [
    {
     "name": "stdout",
     "output_type": "stream",
     "text": [
      "Hello world\n"
     ]
    }
   ],
   "source": [
    "print(\"Hello world\")"
   ]
  },
  {
   "cell_type": "markdown",
   "id": "81dca78a",
   "metadata": {},
   "source": [
    "# 2. Write a Python program to do arithmetical operations addition and division.?"
   ]
  },
  {
   "cell_type": "code",
   "execution_count": 8,
   "id": "2597695c",
   "metadata": {},
   "outputs": [
    {
     "name": "stdout",
     "output_type": "stream",
     "text": [
      "15\n",
      "2.0\n"
     ]
    }
   ],
   "source": [
    "a = 10\n",
    "b = 5\n",
    "print(a+b)\n",
    "print(a/b)"
   ]
  },
  {
   "cell_type": "markdown",
   "id": "9a52e2ce",
   "metadata": {},
   "source": [
    "# 3. Write a Python program to find the area of a triangle?"
   ]
  },
  {
   "cell_type": "code",
   "execution_count": 11,
   "id": "a4f64f97",
   "metadata": {},
   "outputs": [
    {
     "name": "stdout",
     "output_type": "stream",
     "text": [
      "Enter size of a25\n",
      "Enter size of b30\n",
      "Enter size of c35\n",
      "The area is 367.4234614174767\n"
     ]
    }
   ],
   "source": [
    "a = float(input(\"Enter size of a\"))\n",
    "b = float(input(\"Enter size of b\"))\n",
    "c = float(input(\"Enter size of c\"))\n",
    "\n",
    "# finding semi-perimeter\n",
    "s = (a+b+c)/2\n",
    "\n",
    "#finding area\n",
    "area = (s*(s-a)*(s-b)*(s-c))**0.5\n",
    "print(\"The area is\", area)\n"
   ]
  },
  {
   "cell_type": "markdown",
   "id": "782eb9c9",
   "metadata": {},
   "source": [
    "# 4. Write a Python program to swap two variables?"
   ]
  },
  {
   "cell_type": "code",
   "execution_count": 12,
   "id": "222668ba",
   "metadata": {},
   "outputs": [
    {
     "name": "stdout",
     "output_type": "stream",
     "text": [
      "x 50\n",
      "y 10\n"
     ]
    }
   ],
   "source": [
    "# method 1 : storing one value in other variable for temporariy purpose\n",
    "x = 10\n",
    "y = 50\n",
    "temp = x\n",
    "x = y\n",
    "y = temp\n",
    "print('x', x)\n",
    "print('y', y)"
   ]
  },
  {
   "cell_type": "code",
   "execution_count": 14,
   "id": "9ee98bd2",
   "metadata": {},
   "outputs": [
    {
     "name": "stdout",
     "output_type": "stream",
     "text": [
      "x 50\n",
      "y 10\n"
     ]
    }
   ],
   "source": [
    "# method 2 : by coma seperation\n",
    "x = 10\n",
    "y = 50\n",
    "x, y = y,x\n",
    "print('x', x)\n",
    "print('y', y)"
   ]
  },
  {
   "cell_type": "code",
   "execution_count": 16,
   "id": "4ece8bdc",
   "metadata": {},
   "outputs": [
    {
     "name": "stdout",
     "output_type": "stream",
     "text": [
      "x 50\n",
      "y 10\n"
     ]
    }
   ],
   "source": [
    "# method 3 : using addition and substraction operator\n",
    "x = 10\n",
    "y = 50\n",
    "x = x + y\n",
    "y = x - y\n",
    "x = x - y\n",
    "print('x', x)\n",
    "print('y', y)"
   ]
  },
  {
   "cell_type": "markdown",
   "id": "67b8ebc6",
   "metadata": {},
   "source": [
    "# 5. Write a Python program to generate a random number?"
   ]
  },
  {
   "cell_type": "code",
   "execution_count": 27,
   "id": "b0a77f84",
   "metadata": {},
   "outputs": [
    {
     "name": "stdout",
     "output_type": "stream",
     "text": [
      "random 247\n"
     ]
    }
   ],
   "source": [
    "import random\n",
    "a = random.randint(0, 500)\n",
    "print('random', a)"
   ]
  },
  {
   "cell_type": "code",
   "execution_count": null,
   "id": "d975c344",
   "metadata": {},
   "outputs": [],
   "source": []
  }
 ],
 "metadata": {
  "kernelspec": {
   "display_name": "Python 3 (ipykernel)",
   "language": "python",
   "name": "python3"
  },
  "language_info": {
   "codemirror_mode": {
    "name": "ipython",
    "version": 3
   },
   "file_extension": ".py",
   "mimetype": "text/x-python",
   "name": "python",
   "nbconvert_exporter": "python",
   "pygments_lexer": "ipython3",
   "version": "3.10.2"
  }
 },
 "nbformat": 4,
 "nbformat_minor": 5
}
