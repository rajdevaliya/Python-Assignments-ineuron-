{
 "cells": [
  {
   "cell_type": "markdown",
   "id": "5ef3bb73",
   "metadata": {},
   "source": [
    "## 1.Write a Python Program to find the factorial of a number ?\n"
   ]
  },
  {
   "cell_type": "code",
   "execution_count": 6,
   "id": "c553297f",
   "metadata": {},
   "outputs": [
    {
     "name": "stdout",
     "output_type": "stream",
     "text": [
      "Enter yout number 25\n"
     ]
    },
    {
     "data": {
      "text/plain": [
       "15511210043330985984000000"
      ]
     },
     "execution_count": 6,
     "metadata": {},
     "output_type": "execute_result"
    }
   ],
   "source": [
    "def factorial(num):\n",
    "    if num < 1:\n",
    "        return 1\n",
    "    else:\n",
    "        return num * factorial(num - 1)\n",
    "numbr = int(input(\"Enter yout number \"))\n",
    "factorial(numbr)"
   ]
  },
  {
   "cell_type": "markdown",
   "id": "a4a9c371",
   "metadata": {},
   "source": [
    "## 2.Write a Python Program to display the multiplication table ?\n"
   ]
  },
  {
   "cell_type": "code",
   "execution_count": 9,
   "id": "d45048c1",
   "metadata": {},
   "outputs": [
    {
     "name": "stdout",
     "output_type": "stream",
     "text": [
      "5 * 1 = 5\n",
      "5 * 2 = 10\n",
      "5 * 3 = 15\n",
      "5 * 4 = 20\n",
      "5 * 5 = 25\n",
      "5 * 6 = 30\n",
      "5 * 7 = 35\n",
      "5 * 8 = 40\n",
      "5 * 9 = 45\n",
      "5 * 10 = 50\n"
     ]
    }
   ],
   "source": [
    "def generatTable(base, entries):\n",
    "    for x in range(1, entries+1):\n",
    "        print(f\"{base} * {x} = {base*x}\")\n",
    "generatTable(5, 10)"
   ]
  },
  {
   "cell_type": "markdown",
   "id": "59b0aa7c",
   "metadata": {},
   "source": [
    "## 3.Write a Python Program to print the fibonacci sequence ?\n"
   ]
  },
  {
   "cell_type": "code",
   "execution_count": 11,
   "id": "6dc7d318",
   "metadata": {},
   "outputs": [
    {
     "name": "stdout",
     "output_type": "stream",
     "text": [
      "[0, 1, 1, 2, 3, 5, 8, 13, 21, 34]\n"
     ]
    }
   ],
   "source": [
    "array = [0, 1]\n",
    "def fibo(n):\n",
    "    if n < 0 :\n",
    "        print(\"incorrect input\")\n",
    "    elif n < len(array):\n",
    "        print(array[n])\n",
    "    else:\n",
    "        for i in range(n):\n",
    "            if i >= 2:\n",
    "                array.append(array[i - 1] + array[i - 2])\n",
    "        print(array)\n",
    "fibo(10)"
   ]
  },
  {
   "cell_type": "markdown",
   "id": "41930570",
   "metadata": {},
   "source": [
    "## 4.Write a Python Program to check Armstrong number ?\n"
   ]
  },
  {
   "cell_type": "code",
   "execution_count": 6,
   "id": "23251925",
   "metadata": {},
   "outputs": [
    {
     "name": "stdout",
     "output_type": "stream",
     "text": [
      "Enter a number15\n",
      "not armstrong\n"
     ]
    }
   ],
   "source": [
    "def checkArmstrong():\n",
    "    num = input(\"Enter a number\")\n",
    "    sum = 0 \n",
    "    for i in num:\n",
    "        sum += pow(int(i), 3)\n",
    "    if sum == int(num):\n",
    "        print(\"num is armstrong\")\n",
    "    else:\n",
    "        print(\"not armstrong\")\n",
    "checkArmstrong()\n",
    "    "
   ]
  },
  {
   "cell_type": "markdown",
   "id": "26ff63c6",
   "metadata": {},
   "source": [
    "## 5.Write a Python Program to Find Armstrong number in an interval ?\n"
   ]
  },
  {
   "cell_type": "code",
   "execution_count": 11,
   "id": "cfd0dde1",
   "metadata": {},
   "outputs": [
    {
     "name": "stdout",
     "output_type": "stream",
     "text": [
      "start 1\n",
      "end 10000\n",
      "['1', '153', '370', '371', '407']\n"
     ]
    }
   ],
   "source": [
    "def armStrongChecker(num, list_):\n",
    "    sum = 0\n",
    "    for char in num:\n",
    "        sum+= pow(int(char),3)\n",
    "    if str(sum) == num:\n",
    "        list_.append(num)\n",
    "\n",
    "start = int(input(\"start \"))\n",
    "end = int(input(\"end \"))\n",
    "list_of_arm = []\n",
    "for i in range(start, end+1):\n",
    "    armStrongChecker(str(i), list_of_arm)\n",
    "print(list_of_arm)"
   ]
  },
  {
   "cell_type": "markdown",
   "id": "cee973b8",
   "metadata": {},
   "source": [
    "## 6.Write a Python Program to sum of natural numbers ?\n"
   ]
  },
  {
   "cell_type": "code",
   "execution_count": 12,
   "id": "85064b91",
   "metadata": {},
   "outputs": [],
   "source": [
    "def sumOFNaturalNumbers(num):\n",
    "    sum = num * ((num+1)/2)\n",
    "    print(f\"sum of natural numbers\", sum)"
   ]
  },
  {
   "cell_type": "code",
   "execution_count": 13,
   "id": "2a1f0056",
   "metadata": {},
   "outputs": [
    {
     "name": "stdout",
     "output_type": "stream",
     "text": [
      "sum of natural numbers 20100.0\n"
     ]
    }
   ],
   "source": [
    "sumOFNaturalNumbers(200)"
   ]
  },
  {
   "cell_type": "code",
   "execution_count": 14,
   "id": "c34afb18",
   "metadata": {},
   "outputs": [
    {
     "name": "stdout",
     "output_type": "stream",
     "text": [
      "20100\n"
     ]
    }
   ],
   "source": [
    "sum = 0\n",
    "for no in range(201):\n",
    "    sum+= no\n",
    "print(sum)"
   ]
  },
  {
   "cell_type": "code",
   "execution_count": null,
   "id": "f1800c01",
   "metadata": {},
   "outputs": [],
   "source": []
  },
  {
   "cell_type": "code",
   "execution_count": null,
   "id": "a1b0d20e",
   "metadata": {},
   "outputs": [],
   "source": []
  },
  {
   "cell_type": "code",
   "execution_count": null,
   "id": "266cb5be",
   "metadata": {},
   "outputs": [],
   "source": []
  },
  {
   "cell_type": "code",
   "execution_count": null,
   "id": "b57dda7f",
   "metadata": {},
   "outputs": [],
   "source": []
  },
  {
   "cell_type": "code",
   "execution_count": null,
   "id": "a5e8e7c7",
   "metadata": {},
   "outputs": [],
   "source": []
  },
  {
   "cell_type": "code",
   "execution_count": null,
   "id": "964f8477",
   "metadata": {},
   "outputs": [],
   "source": []
  },
  {
   "cell_type": "code",
   "execution_count": null,
   "id": "831c18b0",
   "metadata": {},
   "outputs": [],
   "source": []
  },
  {
   "cell_type": "code",
   "execution_count": null,
   "id": "f21e6ddd",
   "metadata": {},
   "outputs": [],
   "source": []
  },
  {
   "cell_type": "code",
   "execution_count": null,
   "id": "96e2af10",
   "metadata": {},
   "outputs": [],
   "source": []
  }
 ],
 "metadata": {
  "kernelspec": {
   "display_name": "Python 3 (ipykernel)",
   "language": "python",
   "name": "python3"
  },
  "language_info": {
   "codemirror_mode": {
    "name": "ipython",
    "version": 3
   },
   "file_extension": ".py",
   "mimetype": "text/x-python",
   "name": "python",
   "nbconvert_exporter": "python",
   "pygments_lexer": "ipython3",
   "version": "3.10.1"
  }
 },
 "nbformat": 4,
 "nbformat_minor": 5
}
