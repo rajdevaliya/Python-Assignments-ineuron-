{
 "cells": [
  {
   "cell_type": "markdown",
   "id": "9b052a1e",
   "metadata": {},
   "source": [
    "## 1.Create a function that takes a string and returns a string in which each character is repeated once.\n"
   ]
  },
  {
   "cell_type": "markdown",
   "id": "5df9af20",
   "metadata": {},
   "source": [
    "<pre>\n",
    "Examples:\n",
    "double_char(\"String\") ➞ \"SSttrriinngg\"\n",
    "double_char(\"Hello World!\") ➞ \"HHeelllloo WWoorrlldd!!\"\n",
    "doublechar(\"1234!_\") ➞ \"11223344!!__\"\n",
    "</pre>"
   ]
  },
  {
   "cell_type": "code",
   "execution_count": 1,
   "id": "53527091",
   "metadata": {},
   "outputs": [
    {
     "name": "stdout",
     "output_type": "stream",
     "text": [
      "➞ SSttrriinngg\n",
      "➞ HHeelllloo  WWoorrlldd!!\n",
      "➞ 11223344!!__\n"
     ]
    }
   ],
   "source": [
    "def double_char(in_string):\n",
    "    out_string = ''\n",
    "    for ele in in_string:\n",
    "        out_string += ele*2\n",
    "    return out_string\n",
    "\n",
    "print(f'➞ {double_char(\"String\")}')\n",
    "print(f'➞ {double_char(\"Hello World!\")}')\n",
    "print(f'➞ {double_char(\"1234!_\")}')"
   ]
  },
  {
   "cell_type": "markdown",
   "id": "f09b1d2f",
   "metadata": {},
   "source": [
    "<pre>\n",
    "<h1>2.Create a function that reverses a boolean value and returns the string \"boolean expected\" if another variable type is given.</h1>\n",
    "Examples:\n",
    "reverse(True) ➞ False\n",
    "reverse(False) ➞ True\n",
    "reverse(0) ➞ \"boolean expected\"\n",
    "reverse(None) ➞ \"boolean expected\"\n",
    "</pre>"
   ]
  },
  {
   "cell_type": "code",
   "execution_count": 2,
   "id": "1cbc2358",
   "metadata": {},
   "outputs": [
    {
     "name": "stdout",
     "output_type": "stream",
     "text": [
      "False\n",
      "True\n",
      "boolean expected\n"
     ]
    }
   ],
   "source": [
    "def reverse(in_string):\n",
    "    if type(in_string) == bool:\n",
    "        return not in_string\n",
    "    else:\n",
    "        return \"boolean expected\"\n",
    "print(reverse(True))\n",
    "print(reverse(False))\n",
    "print(reverse(0))\n",
    "    "
   ]
  },
  {
   "cell_type": "markdown",
   "id": "117e249c",
   "metadata": {},
   "source": [
    "## 3. Create a function that returns the thickness (in meters) of a piece of paper after folding it n number of times. The paper starts off with a thickness of 0.5mm."
   ]
  },
  {
   "cell_type": "markdown",
   "id": "eb0601f3",
   "metadata": {},
   "source": [
    "<pre>\n",
    "Examples:\n",
    "num_layers(1) ➞ \"0.001m\" # Paper folded once is 1mm (equal to 0.001m) num_layers(4) ➞ \"0.008m\" # Paper folded 4 times is 8mm (equal to 0.008m) num_layers(21) ➞ \"1048.576m\" # Paper folded 21 times is 1048576mm (equal to 1048.576m)\n",
    "</pre>"
   ]
  },
  {
   "cell_type": "code",
   "execution_count": 3,
   "id": "5ea101ef",
   "metadata": {},
   "outputs": [
    {
     "name": "stdout",
     "output_type": "stream",
     "text": [
      "thickness for 1 is 0.001m\n",
      "thickness for 4 is 0.008m\n",
      "thickness for 21 is 1048.576m\n"
     ]
    }
   ],
   "source": [
    "def num_of_layers(num):\n",
    "    base_thick = 0.5\n",
    "    for i in range(num):\n",
    "        base_thick *= 2\n",
    "    print(f\"thickness for {num} is {base_thick/1000}m\")\n",
    "num_of_layers(1)\n",
    "num_of_layers(4)\n",
    "num_of_layers(21)"
   ]
  },
  {
   "cell_type": "markdown",
   "id": "5277bf9d",
   "metadata": {},
   "source": [
    "## 4.Create a function that takes a single string as argument and returns an ordered list containing the indices of all capital letters in the string."
   ]
  },
  {
   "cell_type": "markdown",
   "id": "beff5df4",
   "metadata": {},
   "source": [
    "<pre>\n",
    "Examples:\n",
    "index_of_caps(\"eDaBiT\") ➞ [1, 3, 5]\n",
    "index_of_caps(\"eQuINoX\") ➞ [1, 3, 4, 6]\n",
    "index_of_caps(\"determine\") ➞ []\n",
    "index_of_caps(\"STRIKE\") ➞ [0, 1, 2, 3, 4, 5]\n",
    "index_of_caps(\"sUn\") ➞ [1]\n",
    "</pre>"
   ]
  },
  {
   "cell_type": "code",
   "execution_count": 5,
   "id": "981ac5ba",
   "metadata": {},
   "outputs": [
    {
     "name": "stdout",
     "output_type": "stream",
     "text": [
      "index of capital letter in eDaBiT is [1, 3, 5]\n",
      "index of capital letter in eQuINoX is [1, 3, 4, 6]\n",
      "index of capital letter in determine is []\n",
      "index of capital letter in STRIKE is [0, 1, 2, 3, 4, 5]\n"
     ]
    }
   ],
   "source": [
    "def index_of_caps(in_string):\n",
    "    index = []\n",
    "    for ele in in_string:\n",
    "        if ele.isupper():\n",
    "            index.append(in_string.index(ele))\n",
    "    print(f\"index of capital letter in {in_string} is {index}\")\n",
    "\n",
    "index_of_caps(\"eDaBiT\") #➞ [1, 3, 5]\n",
    "index_of_caps(\"eQuINoX\") #➞ [1, 3, 4, 6]\n",
    "index_of_caps(\"determine\") #➞ []\n",
    "index_of_caps(\"STRIKE\")\n"
   ]
  },
  {
   "cell_type": "markdown",
   "id": "fd8a3b34",
   "metadata": {},
   "source": [
    "## 5.Using list comprehensions, create a function that finds all even numbers from 1 to the given number.\n"
   ]
  },
  {
   "cell_type": "markdown",
   "id": "17b80879",
   "metadata": {},
   "source": [
    "   <pre>\n",
    " \n",
    "Examples:\n",
    "find_even_nums(8) ➞ [2, 4, 6, 8]\n",
    "find_even_nums(4) ➞ [2, 4]\n",
    "find_even_nums(2) ➞ [2]\n",
    "   </pre>"
   ]
  },
  {
   "cell_type": "code",
   "execution_count": 6,
   "id": "5534cf93",
   "metadata": {},
   "outputs": [
    {
     "name": "stdout",
     "output_type": "stream",
     "text": [
      "Output ➞ [2, 4, 6, 8]\n",
      "Output ➞ [2, 4]\n",
      "Output ➞ [2]\n"
     ]
    }
   ],
   "source": [
    "def find_even_nums(in_num):\n",
    "    out_list = [i for i in range(1,in_num+1) if i%2 == 0]\n",
    "    print(f'Output ➞ {out_list}')\n",
    "    \n",
    "find_even_nums(8)\n",
    "find_even_nums(4)\n",
    "find_even_nums(2)"
   ]
  },
  {
   "cell_type": "code",
   "execution_count": null,
   "id": "ef37eefb",
   "metadata": {},
   "outputs": [],
   "source": []
  },
  {
   "cell_type": "code",
   "execution_count": null,
   "id": "9d2f9f79",
   "metadata": {},
   "outputs": [],
   "source": []
  },
  {
   "cell_type": "code",
   "execution_count": null,
   "id": "cfc85062",
   "metadata": {},
   "outputs": [],
   "source": []
  },
  {
   "cell_type": "code",
   "execution_count": null,
   "id": "75b84c07",
   "metadata": {},
   "outputs": [],
   "source": []
  },
  {
   "cell_type": "code",
   "execution_count": null,
   "id": "049c894e",
   "metadata": {},
   "outputs": [],
   "source": []
  },
  {
   "cell_type": "code",
   "execution_count": null,
   "id": "af2b0d54",
   "metadata": {},
   "outputs": [],
   "source": []
  },
  {
   "cell_type": "code",
   "execution_count": null,
   "id": "7dc700b3",
   "metadata": {},
   "outputs": [],
   "source": []
  },
  {
   "cell_type": "code",
   "execution_count": null,
   "id": "dcd203ef",
   "metadata": {},
   "outputs": [],
   "source": []
  },
  {
   "cell_type": "code",
   "execution_count": null,
   "id": "5346e758",
   "metadata": {},
   "outputs": [],
   "source": []
  },
  {
   "cell_type": "code",
   "execution_count": null,
   "id": "7a4de79c",
   "metadata": {},
   "outputs": [],
   "source": []
  },
  {
   "cell_type": "code",
   "execution_count": null,
   "id": "706223e7",
   "metadata": {},
   "outputs": [],
   "source": []
  },
  {
   "cell_type": "code",
   "execution_count": null,
   "id": "fe9735c2",
   "metadata": {},
   "outputs": [],
   "source": []
  },
  {
   "cell_type": "code",
   "execution_count": null,
   "id": "3baf5283",
   "metadata": {},
   "outputs": [],
   "source": []
  },
  {
   "cell_type": "code",
   "execution_count": null,
   "id": "4960af5c",
   "metadata": {},
   "outputs": [],
   "source": []
  },
  {
   "cell_type": "code",
   "execution_count": null,
   "id": "33bdce91",
   "metadata": {},
   "outputs": [],
   "source": []
  },
  {
   "cell_type": "code",
   "execution_count": null,
   "id": "bf172543",
   "metadata": {},
   "outputs": [],
   "source": []
  },
  {
   "cell_type": "code",
   "execution_count": null,
   "id": "b1dc335f",
   "metadata": {},
   "outputs": [],
   "source": []
  },
  {
   "cell_type": "code",
   "execution_count": null,
   "id": "b68222cf",
   "metadata": {},
   "outputs": [],
   "source": []
  },
  {
   "cell_type": "code",
   "execution_count": null,
   "id": "28fbbc1a",
   "metadata": {},
   "outputs": [],
   "source": []
  },
  {
   "cell_type": "code",
   "execution_count": null,
   "id": "de4358c6",
   "metadata": {},
   "outputs": [],
   "source": []
  },
  {
   "cell_type": "code",
   "execution_count": null,
   "id": "3f6dfeb3",
   "metadata": {},
   "outputs": [],
   "source": []
  },
  {
   "cell_type": "code",
   "execution_count": null,
   "id": "26249f96",
   "metadata": {},
   "outputs": [],
   "source": []
  },
  {
   "cell_type": "code",
   "execution_count": null,
   "id": "754d1d7e",
   "metadata": {},
   "outputs": [],
   "source": []
  },
  {
   "cell_type": "code",
   "execution_count": null,
   "id": "bfa35dd1",
   "metadata": {},
   "outputs": [],
   "source": []
  },
  {
   "cell_type": "code",
   "execution_count": null,
   "id": "99f5bbc6",
   "metadata": {},
   "outputs": [],
   "source": []
  },
  {
   "cell_type": "code",
   "execution_count": null,
   "id": "23841eb8",
   "metadata": {},
   "outputs": [],
   "source": []
  },
  {
   "cell_type": "code",
   "execution_count": null,
   "id": "0da22878",
   "metadata": {},
   "outputs": [],
   "source": []
  },
  {
   "cell_type": "code",
   "execution_count": null,
   "id": "53d30905",
   "metadata": {},
   "outputs": [],
   "source": []
  },
  {
   "cell_type": "code",
   "execution_count": null,
   "id": "046c3c93",
   "metadata": {},
   "outputs": [],
   "source": []
  },
  {
   "cell_type": "code",
   "execution_count": null,
   "id": "e7f6480b",
   "metadata": {},
   "outputs": [],
   "source": []
  },
  {
   "cell_type": "code",
   "execution_count": null,
   "id": "f168a903",
   "metadata": {},
   "outputs": [],
   "source": []
  },
  {
   "cell_type": "code",
   "execution_count": null,
   "id": "fa8f534a",
   "metadata": {},
   "outputs": [],
   "source": []
  },
  {
   "cell_type": "code",
   "execution_count": null,
   "id": "97620e14",
   "metadata": {},
   "outputs": [],
   "source": []
  },
  {
   "cell_type": "code",
   "execution_count": null,
   "id": "943d4bde",
   "metadata": {},
   "outputs": [],
   "source": []
  },
  {
   "cell_type": "code",
   "execution_count": null,
   "id": "dff94af9",
   "metadata": {},
   "outputs": [],
   "source": []
  },
  {
   "cell_type": "code",
   "execution_count": null,
   "id": "932100a2",
   "metadata": {},
   "outputs": [],
   "source": []
  },
  {
   "cell_type": "code",
   "execution_count": null,
   "id": "05b26c03",
   "metadata": {},
   "outputs": [],
   "source": []
  }
 ],
 "metadata": {
  "kernelspec": {
   "display_name": "Python 3 (ipykernel)",
   "language": "python",
   "name": "python3"
  },
  "language_info": {
   "codemirror_mode": {
    "name": "ipython",
    "version": 3
   },
   "file_extension": ".py",
   "mimetype": "text/x-python",
   "name": "python",
   "nbconvert_exporter": "python",
   "pygments_lexer": "ipython3",
   "version": "3.10.1"
  }
 },
 "nbformat": 4,
 "nbformat_minor": 5
}
