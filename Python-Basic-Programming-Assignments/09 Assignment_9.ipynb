{
 "cells": [
  {
   "cell_type": "markdown",
   "id": "d1648ba0",
   "metadata": {},
   "source": [
    "## 1.Write a Python Program to check if the given number is a Disarium Number ?\n"
   ]
  },
  {
   "cell_type": "code",
   "execution_count": null,
   "id": "5eaac874",
   "metadata": {},
   "outputs": [],
   "source": [
    "## 1^1 + 3^2 + 5^3 = 1 + 9 + 125 = 135"
   ]
  },
  {
   "cell_type": "code",
   "execution_count": 15,
   "id": "f4e195b6",
   "metadata": {},
   "outputs": [
    {
     "name": "stdout",
     "output_type": "stream",
     "text": [
      "Enter number :175\n",
      "175\n",
      "Number is Disarium\n"
     ]
    }
   ],
   "source": [
    "def checkDisarium():\n",
    "    number = input(\"Enter number :\")\n",
    "    total = 0\n",
    "    for index, num in enumerate(number, start=1):\n",
    "        total += int(num) ** index\n",
    "    if total == int(number):\n",
    "        print(f\"Number is Disarium\")\n",
    "    else:\n",
    "        print(\"Number is not Disarium\")\n",
    "checkDisarium()"
   ]
  },
  {
   "cell_type": "markdown",
   "id": "51438afb",
   "metadata": {},
   "source": [
    "## 2.Write a Python Program to print all Disarium numbers between 1 to 100 ?\n"
   ]
  },
  {
   "cell_type": "code",
   "execution_count": 26,
   "id": "df6aaf2b",
   "metadata": {},
   "outputs": [
    {
     "name": "stdout",
     "output_type": "stream",
     "text": [
      "1 is Disarium\n",
      "2 is Disarium\n",
      "3 is Disarium\n",
      "4 is Disarium\n",
      "5 is Disarium\n",
      "6 is Disarium\n",
      "7 is Disarium\n",
      "8 is Disarium\n",
      "9 is Disarium\n",
      "89 is Disarium\n",
      "135 is Disarium\n",
      "175 is Disarium\n",
      "518 is Disarium\n",
      "598 is Disarium\n"
     ]
    }
   ],
   "source": [
    "def checkFromRange(start=1, end=100):\n",
    "    for number in range(start, end+1):\n",
    "        sum = 0\n",
    "        for i,j in enumerate(str(number), start=1):\n",
    "            sum += int(j) ** i\n",
    "        if sum == number:\n",
    "            print(f\"{number} is Disarium\")\n",
    "            sum = 0\n",
    "        else:\n",
    "            sum = 0\n",
    "\n",
    "checkFromRange(1, 1000)\n",
    "    "
   ]
  },
  {
   "cell_type": "markdown",
   "id": "0b1b807c",
   "metadata": {},
   "source": [
    "## 3.Write a Python Program to check if the given number is Happy Number ?\n"
   ]
  },
  {
   "cell_type": "code",
   "execution_count": null,
   "id": "5922ad06",
   "metadata": {},
   "outputs": [],
   "source": [
    "1^2 + 9^2 = 82\n",
    "8^2 + 2^2 = 68\n",
    "6^2 + 8^2 = 100\n",
    "1^2 + 0^2 + 0^2 = 1 ## if one then  19 is happy number"
   ]
  },
  {
   "cell_type": "code",
   "execution_count": 33,
   "id": "dbb45271",
   "metadata": {},
   "outputs": [
    {
     "data": {
      "text/plain": [
       "True"
      ]
     },
     "execution_count": 33,
     "metadata": {},
     "output_type": "execute_result"
    }
   ],
   "source": [
    "def is_happy_number(n):\n",
    "    seen_numbers = set()\n",
    "    while n != 1 and n not in seen_numbers:\n",
    "        seen_numbers.add(n)\n",
    "        n = sum(int(digit) ** 2 for digit in str(n))\n",
    "    return n == 1\n",
    "is_happy_number(19)"
   ]
  },
  {
   "cell_type": "markdown",
   "id": "2386a04f",
   "metadata": {},
   "source": [
    "## 4.Write a Python Program to print all Happy numbers between 1 and 100 ?\n"
   ]
  },
  {
   "cell_type": "code",
   "execution_count": 35,
   "id": "359cbf3a",
   "metadata": {},
   "outputs": [
    {
     "name": "stdout",
     "output_type": "stream",
     "text": [
      "[1, 7, 10, 13, 19, 23, 28, 31, 32, 44, 49, 68, 70, 79, 82, 86, 91, 94, 97, 100]\n"
     ]
    }
   ],
   "source": [
    "def checkHappyInRange(start=1, end=100):\n",
    "    list_of_happy = []\n",
    "    for i in range(start, end+1):\n",
    "        if is_happy_number(i):\n",
    "            list_of_happy.append(i)\n",
    "    print(list_of_happy)\n",
    "checkHappyInRange()\n",
    "         "
   ]
  },
  {
   "cell_type": "markdown",
   "id": "173f1fd0",
   "metadata": {},
   "source": [
    "## 5.Write a Python Program to determine whether the given number is a Harshad Number ?\n"
   ]
  },
  {
   "cell_type": "code",
   "execution_count": null,
   "id": "94de0e52",
   "metadata": {},
   "outputs": [],
   "source": [
    "18 is harshad number\n",
    "18/1+8 = 0"
   ]
  },
  {
   "cell_type": "code",
   "execution_count": 36,
   "id": "daf4eea4",
   "metadata": {},
   "outputs": [
    {
     "data": {
      "text/plain": [
       "True"
      ]
     },
     "execution_count": 36,
     "metadata": {},
     "output_type": "execute_result"
    }
   ],
   "source": [
    "def is_harshad(n):\n",
    "    digit_sum = sum(int(digit) for digit in str(n))\n",
    "    return n % digit_sum == 0\n",
    "\n",
    "is_harshad(18)"
   ]
  },
  {
   "cell_type": "markdown",
   "id": "c5b8bf11",
   "metadata": {},
   "source": [
    "## 6.Write a Python Program to print all pronic numbers between 1 and 100 ?\n"
   ]
  },
  {
   "cell_type": "code",
   "execution_count": 39,
   "id": "45cfe710",
   "metadata": {},
   "outputs": [
    {
     "name": "stdout",
     "output_type": "stream",
     "text": [
      "[2, 6, 12, 20, 30, 42, 56, 72, 90]\n"
     ]
    }
   ],
   "source": [
    "def is_pronic(start=1, end=100):\n",
    "    pronic_list = []\n",
    "    for i in range(start, end+1):\n",
    "        for j in range(1, i):\n",
    "            if i == j * (j + 1):\n",
    "                pronic_list.append(i)\n",
    "    print(pronic_list)\n",
    "is_pronic()"
   ]
  },
  {
   "cell_type": "code",
   "execution_count": null,
   "id": "bbaf20f0",
   "metadata": {},
   "outputs": [],
   "source": []
  },
  {
   "cell_type": "code",
   "execution_count": null,
   "id": "5a6973bc",
   "metadata": {},
   "outputs": [],
   "source": []
  },
  {
   "cell_type": "code",
   "execution_count": null,
   "id": "83c96649",
   "metadata": {},
   "outputs": [],
   "source": []
  },
  {
   "cell_type": "code",
   "execution_count": null,
   "id": "bb311850",
   "metadata": {},
   "outputs": [],
   "source": []
  },
  {
   "cell_type": "code",
   "execution_count": null,
   "id": "9bee0074",
   "metadata": {},
   "outputs": [],
   "source": []
  },
  {
   "cell_type": "code",
   "execution_count": null,
   "id": "4a15daec",
   "metadata": {},
   "outputs": [],
   "source": []
  },
  {
   "cell_type": "code",
   "execution_count": null,
   "id": "ccc2a4a6",
   "metadata": {},
   "outputs": [],
   "source": []
  },
  {
   "cell_type": "code",
   "execution_count": null,
   "id": "591ab49c",
   "metadata": {},
   "outputs": [],
   "source": []
  },
  {
   "cell_type": "code",
   "execution_count": null,
   "id": "cbd638a5",
   "metadata": {},
   "outputs": [],
   "source": []
  },
  {
   "cell_type": "code",
   "execution_count": null,
   "id": "9d273543",
   "metadata": {},
   "outputs": [],
   "source": []
  },
  {
   "cell_type": "code",
   "execution_count": null,
   "id": "ae407d18",
   "metadata": {},
   "outputs": [],
   "source": []
  },
  {
   "cell_type": "code",
   "execution_count": null,
   "id": "1909ec30",
   "metadata": {},
   "outputs": [],
   "source": []
  },
  {
   "cell_type": "code",
   "execution_count": null,
   "id": "0c3415d6",
   "metadata": {},
   "outputs": [],
   "source": []
  },
  {
   "cell_type": "code",
   "execution_count": null,
   "id": "b2740a81",
   "metadata": {},
   "outputs": [],
   "source": []
  },
  {
   "cell_type": "code",
   "execution_count": null,
   "id": "27c1f997",
   "metadata": {},
   "outputs": [],
   "source": []
  },
  {
   "cell_type": "code",
   "execution_count": null,
   "id": "dea8d084",
   "metadata": {},
   "outputs": [],
   "source": []
  },
  {
   "cell_type": "code",
   "execution_count": null,
   "id": "4896d30d",
   "metadata": {},
   "outputs": [],
   "source": []
  },
  {
   "cell_type": "code",
   "execution_count": null,
   "id": "00054c5f",
   "metadata": {},
   "outputs": [],
   "source": []
  },
  {
   "cell_type": "code",
   "execution_count": null,
   "id": "60828dbd",
   "metadata": {},
   "outputs": [],
   "source": []
  },
  {
   "cell_type": "code",
   "execution_count": null,
   "id": "40f771f6",
   "metadata": {},
   "outputs": [],
   "source": []
  },
  {
   "cell_type": "code",
   "execution_count": null,
   "id": "00f71169",
   "metadata": {},
   "outputs": [],
   "source": []
  },
  {
   "cell_type": "code",
   "execution_count": null,
   "id": "6ae5fbb3",
   "metadata": {},
   "outputs": [],
   "source": []
  },
  {
   "cell_type": "code",
   "execution_count": null,
   "id": "66b29193",
   "metadata": {},
   "outputs": [],
   "source": []
  }
 ],
 "metadata": {
  "kernelspec": {
   "display_name": "Python 3 (ipykernel)",
   "language": "python",
   "name": "python3"
  },
  "language_info": {
   "codemirror_mode": {
    "name": "ipython",
    "version": 3
   },
   "file_extension": ".py",
   "mimetype": "text/x-python",
   "name": "python",
   "nbconvert_exporter": "python",
   "pygments_lexer": "ipython3",
   "version": "3.10.1"
  }
 },
 "nbformat": 4,
 "nbformat_minor": 5
}
