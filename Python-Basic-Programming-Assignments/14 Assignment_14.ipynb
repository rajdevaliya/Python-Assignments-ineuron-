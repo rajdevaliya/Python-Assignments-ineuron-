{
 "cells": [
  {
   "cell_type": "markdown",
   "id": "cbd85fc0",
   "metadata": {},
   "source": [
    "## 1.Define a class with a generator which can iterate the numbers, which are divisible by 7, between a given range 0 and n. ?\n"
   ]
  },
  {
   "cell_type": "code",
   "execution_count": 1,
   "id": "3f5b7449",
   "metadata": {},
   "outputs": [],
   "source": [
    "class div_generator:\n",
    "    def __init__(self, in_num):\n",
    "        self.in_num = in_num\n",
    "    \n",
    "    def get_numbers(self):\n",
    "        for i in range(self.in_num+1):\n",
    "            if i % 7 == 0:\n",
    "                yield i"
   ]
  },
  {
   "cell_type": "code",
   "execution_count": 2,
   "id": "d2b0464b",
   "metadata": {},
   "outputs": [
    {
     "name": "stdout",
     "output_type": "stream",
     "text": [
      "0,7,14,21,28,35,42,49,56,63,70,77,84,91,98,105,112,119,126,133,140,147,154,161,168,175,182,189,196,203,210,217,224,231,238,245,"
     ]
    }
   ],
   "source": [
    "output = div_generator(250)\n",
    "for ele in output.get_numbers():\n",
    "    print(ele, end=\",\")"
   ]
  },
  {
   "cell_type": "markdown",
   "id": "60fd1eeb",
   "metadata": {},
   "source": [
    "## 2.Write a program to compute the frequency of the words from the input. The output should output after sorting the key alphanumerically."
   ]
  },
  {
   "cell_type": "markdown",
   "id": "6011f037",
   "metadata": {},
   "source": [
    "<pre>\n",
    "Suppose the following input is supplied to the program:\n",
    "New to Python or choosing between Python 2 and Python 3? Read Python 2 or Python 3.\n",
    "Then, the output should be:\n",
    "2:2 3.:1 3?:1 New:1 Python:5 Read:1 and:1 between:1 choosing:1 or:2 to:1\n",
    "</pre>"
   ]
  },
  {
   "cell_type": "code",
   "execution_count": 1,
   "id": "082cc242",
   "metadata": {},
   "outputs": [
    {
     "name": "stdout",
     "output_type": "stream",
     "text": [
      "Enter words :New to Python or choosing between Python 2 and Python 3? Read Python 2 or Python 3.\n",
      "2 : 2 3. : 1 3? : 1 New : 1 Python : 5 Read : 1 and : 1 between : 1 choosing : 1 or : 2 to : 1 "
     ]
    }
   ],
   "source": [
    "def frequency_checker():\n",
    "    in_word = input(\"Enter words :\")\n",
    "    freq_table = {}\n",
    "    for ele in in_word.split(\" \"):\n",
    "        if (freq_table.get(ele) == None):\n",
    "            freq_table[ele] = 1\n",
    "        else:\n",
    "            freq_table[ele] += 1\n",
    "    for ele in sorted(freq_table):\n",
    "        print(f\"{ele} : {freq_table[ele]}\", end=\" \")\n",
    "frequency_checker()"
   ]
  },
  {
   "cell_type": "markdown",
   "id": "b7f09b95",
   "metadata": {},
   "source": [
    "## 3.Define a class Person and its two child classes: Male and Female. All classes have a method \"getGender\" which can print \"Male\" for Male class and \"Female\" for Female class. ?"
   ]
  },
  {
   "cell_type": "code",
   "execution_count": 2,
   "id": "872d3714",
   "metadata": {},
   "outputs": [],
   "source": [
    "class Person:\n",
    "    def get_gender():\n",
    "        print(\"I am main class\")\n",
    "class Male(Person):\n",
    "    def get_gender():\n",
    "        print(\"I am Male\")\n",
    "class Female(Person):\n",
    "    def get_gender():\n",
    "        print(\"I am Female\")"
   ]
  },
  {
   "cell_type": "code",
   "execution_count": 3,
   "id": "e833016f",
   "metadata": {},
   "outputs": [
    {
     "name": "stdout",
     "output_type": "stream",
     "text": [
      "I am Male\n"
     ]
    }
   ],
   "source": [
    "Male.get_gender()"
   ]
  },
  {
   "cell_type": "code",
   "execution_count": 4,
   "id": "0b6c6e5b",
   "metadata": {},
   "outputs": [
    {
     "name": "stdout",
     "output_type": "stream",
     "text": [
      "I am Female\n"
     ]
    }
   ],
   "source": [
    "Female.get_gender()"
   ]
  },
  {
   "cell_type": "code",
   "execution_count": 7,
   "id": "f484f7fa",
   "metadata": {},
   "outputs": [
    {
     "name": "stdout",
     "output_type": "stream",
     "text": [
      "I am main class\n"
     ]
    }
   ],
   "source": [
    "Person.get_gender()"
   ]
  },
  {
   "cell_type": "markdown",
   "id": "9e5af723",
   "metadata": {},
   "source": [
    "## 4.Please write a program to generate all sentences where subject is in [\"I\", \"You\"] and verb is in [\"Play\", \"Love\"] and the object is in [\"Hockey\",\"Football\"] ?"
   ]
  },
  {
   "cell_type": "code",
   "execution_count": 5,
   "id": "0d19f6cd",
   "metadata": {},
   "outputs": [
    {
     "name": "stdout",
     "output_type": "stream",
     "text": [
      "I Play Hockey\n",
      "I Play Football\n",
      "I Love Hockey\n",
      "I Love Football\n",
      "You Play Hockey\n",
      "You Play Football\n",
      "You Love Hockey\n",
      "You Love Football\n"
     ]
    }
   ],
   "source": [
    "def generateSentences():\n",
    "    subject = ['I','You']\n",
    "    verb = ['Play','Love']\n",
    "    object = ['Hockey','Football']\n",
    "    for s in subject:\n",
    "        for v in verb:\n",
    "            for o in object:\n",
    "                print(f\"{s} {v} {o}\")\n",
    "generateSentences()"
   ]
  },
  {
   "cell_type": "markdown",
   "id": "f3c33c30",
   "metadata": {},
   "source": [
    "## 5.Please write a program to compress and decompress the string \"hello world!hello world!hello world!hello world!\" ?\n"
   ]
  },
  {
   "cell_type": "code",
   "execution_count": 9,
   "id": "557f2805",
   "metadata": {},
   "outputs": [
    {
     "name": "stdout",
     "output_type": "stream",
     "text": [
      "b'x\\x9c\\xcbH\\xcd\\xc9\\xc9W(\\xcf/\\xcaIQ\\xcc \\x82\\r\\x00\\xbd[\\x11\\xf5'\n"
     ]
    }
   ],
   "source": [
    "import zlib\n",
    "def compress(in_string):\n",
    "    compress = zlib.compress(in_string.encode())\n",
    "    print(compress)\n",
    "compress(\"hello world!hello world!hello world!hello world!\")"
   ]
  },
  {
   "cell_type": "code",
   "execution_count": 10,
   "id": "4e2cae2b",
   "metadata": {},
   "outputs": [
    {
     "name": "stdout",
     "output_type": "stream",
     "text": [
      "b'hello world!hello world!hello world!hello world!'\n"
     ]
    }
   ],
   "source": [
    "def decompress(in_string):\n",
    "    decom = zlib.decompress(in_string)\n",
    "    print(decom)\n",
    "decompress(b'x\\x9c\\xcbH\\xcd\\xc9\\xc9W(\\xcf/\\xcaIQ\\xcc \\x82\\r\\x00\\xbd[\\x11\\xf5')"
   ]
  },
  {
   "cell_type": "code",
   "execution_count": 11,
   "id": "7b214b8f",
   "metadata": {},
   "outputs": [
    {
     "name": "stdout",
     "output_type": "stream",
     "text": [
      "hel2o world!hel2o world!hel2o world!hel2o world!\n",
      "hello world!hello world!hello world!hello world!\n",
      "ineuron ful2 stack datascience\n",
      "ineuron full stack datascience\n"
     ]
    }
   ],
   "source": [
    "def compress(in_string):\n",
    "    output = in_string[0]\n",
    "    count = 1\n",
    "    for ele in range(len(in_string)-1):\n",
    "        if in_string[ele] == in_string[ele+1]:\n",
    "            count +=1\n",
    "        else:\n",
    "            if count > 1:\n",
    "                output += str(count)\n",
    "            output += in_string[ele+1]\n",
    "            count = 1\n",
    "    if count > 1:\n",
    "        output += str(count)            \n",
    "    print(output)\n",
    "\n",
    "\n",
    "def decompress(in_string):\n",
    "    output = ''\n",
    "    for ele in range(len(in_string)):\n",
    "        if in_string[ele].isdigit():\n",
    "            output += output[-1]*(int(in_string[ele])-1)\n",
    "        else:\n",
    "            output += in_string[ele]\n",
    "    print(output)\n",
    "    \n",
    "        \n",
    "compress(\"hello world!hello world!hello world!hello world!\")\n",
    "decompress(\"hel2o world!hel2o world!hel2o world!hel2o world!\")\n",
    "\n",
    "compress('ineuron full stack datascience')\n",
    "decompress('ineuron ful2 stack datascience')"
   ]
  },
  {
   "cell_type": "markdown",
   "id": "232b2b08",
   "metadata": {},
   "source": [
    "## 6.Please write a binary search function which searches an item in a sorted list. The function should return the index of element to be searched in the list ?"
   ]
  },
  {
   "cell_type": "code",
   "execution_count": 7,
   "id": "410f9a51",
   "metadata": {},
   "outputs": [
    {
     "name": "stdout",
     "output_type": "stream",
     "text": [
      "7\n",
      "Input Element not in the list\n"
     ]
    }
   ],
   "source": [
    "sorted_list = [1,2,3,4,5,6,7,8,9,10]\n",
    "def binary_search(in_list,in_num):\n",
    "    low = 0\n",
    "    high = len(in_list)-1\n",
    "    while low <= high:\n",
    "        mid = high+low//2\n",
    "        if in_list[mid] < in_num:\n",
    "            low = mid+1\n",
    "        elif in_list[mid] > in_num:\n",
    "            high = mid-1\n",
    "        else:\n",
    "            return mid\n",
    "    else:\n",
    "        return 'Input Element not in the list'\n",
    "    \n",
    "print(binary_search(sorted_list,8))\n",
    "print(binary_search(sorted_list,100))"
   ]
  },
  {
   "cell_type": "code",
   "execution_count": null,
   "id": "5670f782",
   "metadata": {},
   "outputs": [],
   "source": []
  },
  {
   "cell_type": "code",
   "execution_count": null,
   "id": "70de2090",
   "metadata": {},
   "outputs": [],
   "source": []
  },
  {
   "cell_type": "code",
   "execution_count": null,
   "id": "b31a7989",
   "metadata": {},
   "outputs": [],
   "source": []
  },
  {
   "cell_type": "code",
   "execution_count": null,
   "id": "76ed13b2",
   "metadata": {},
   "outputs": [],
   "source": []
  },
  {
   "cell_type": "code",
   "execution_count": null,
   "id": "a261fb01",
   "metadata": {},
   "outputs": [],
   "source": []
  }
 ],
 "metadata": {
  "kernelspec": {
   "display_name": "Python 3 (ipykernel)",
   "language": "python",
   "name": "python3"
  },
  "language_info": {
   "codemirror_mode": {
    "name": "ipython",
    "version": 3
   },
   "file_extension": ".py",
   "mimetype": "text/x-python",
   "name": "python",
   "nbconvert_exporter": "python",
   "pygments_lexer": "ipython3",
   "version": "3.10.1"
  }
 },
 "nbformat": 4,
 "nbformat_minor": 5
}
