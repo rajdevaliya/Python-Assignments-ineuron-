{
 "cells": [
  {
   "cell_type": "markdown",
   "id": "a20724ee",
   "metadata": {},
   "source": [
    "## Q1. In Python 3.X, what are the names and functions of string object types?\n"
   ]
  },
  {
   "cell_type": "markdown",
   "id": "ccbe514a",
   "metadata": {},
   "source": [
    "1. <stirng>.isdecimal() -> Returns True if all characters in a string are decimal.\n",
    "2. <string>.isalnum() -> Returns True if all characters in the string are AlphaNumeric.\n",
    "3. <string>.istitle() -> Returns True if first character in a string is in Uppercase.\n",
    "4. <string>.partition(<sub_string>) -> Splits string at first occurance of sub string and returns a      tuple of 3 elements.\n",
    "5. <string>.rpartition(<sub_string>) -> Splits string at last occurance of sub string and returns a      tuple of 3 elements.\n",
    "6. <string>.isidentifier() -> Returns True if give string is a valid identifier name.\n",
    "7. len(<string>) -> Returns the length of the given string.\n",
    "8. <string>.index(<sub_string>) -> Returns the lowest index of substring if substring is found in the    string.\n",
    "9. <string>.rindex(<sub_string>) -> Returns the highest index of substring if substring is found in      the string.\n",
    "10. max(<string>) -> Returns the highest Alphabetical Character in the string as per ASCII.\n",
    "11. min(<string>) -> Returns the lowest Alphabetical Character in the string as per ASCII.\n",
    "12. <string>.splitlines() -> Returns a list of lines in the string.\n",
    "13. <string>.capitalize() -> Returns the string with first character capitalized.\n",
    "14. <string>.upper() -> Returns the string with all characters in uppercase.\n",
    "15. <string>.lower() -> Returns the string with all characters in lowercase\n",
    "16. <string>.casefold() -> Returns the string in lowercase which can be used for caseless                 comparisions.\n",
    "17. <string>.expandtabs(no_of_spaces) -> Replaces tabs in a string with specified no of spaces default     is 8\n",
    "18. <string>.find(<sub_string>) -> Returns lowest index of substring if substring is found in the         string else returns -1.\n",
    "19. <string>.rfind(<sub_string>) -> Returns highest index of substring if substring is found in the       string else returns -1.\n",
    "20. <string>.count(<char>) -> Returns the no of occurances of the char in the given string.\n",
    "21. <string>.split(<sep>) -> Returns list of words seperated by given sep else seperated by               whitespace.\n",
    "22. <string>.rsplit(<sep>) -> Returns list of words seperated by given sep else seperated by               whitespace scanning from end.\n",
    "23. <string>.lstrip() -> Returns a copy of where leading whitespaces are removed.\n",
    "24. <string>.rstrip() -> Returns a copy of where trailed whitespaces are removed.\n",
    "25. <string>.strip() -> Returns a copy of where both leading and trailing whitespaces are removed.\n",
    "26. <string>.swapcase() -> Swaps lowercase characters with uppercase and vice versa.\n",
    "27. <sep>.join(<list>) -> Concatenates a list or tuple of words with intervening occuernces of sep.\n",
    "28. <string>.translate(<mapping_table>) -> translates the characters using table.\n",
    "29. <string>.maketrans(<dict>) -> Creating a mapping translation tbale usable for 30. <string>.translate(<mapping_table>)\n",
    "31. <string>.replace(<char_1>,<char_2>) -> Replace all occurances of char_1 with char_2 in string.\n",
    "32 <string>.encode() -> Encodes string into any encoding supported by python. Default encoding is UTF-8.\n",
    "33 <string>.ljust(<no_of_spaces>) -> Left-justify in a field of given width.\n",
    "34 <string>.rjust(<no_of_spaces>) -> Right-justify in a field of given width.\n",
    "35 <string>.center(<no_of_spaces>) -> Center-justify in a field of given width.\n",
    "36 <stirng>.zfill(<length>) -> Zfill adds zeros to the begining of string until the specified length is reached."
   ]
  },
  {
   "cell_type": "code",
   "execution_count": 4,
   "id": "a021473c",
   "metadata": {},
   "outputs": [
    {
     "name": "stdout",
     "output_type": "stream",
     "text": [
      "True\n"
     ]
    }
   ],
   "source": [
    "print('1234567890'.isdecimal())"
   ]
  },
  {
   "cell_type": "code",
   "execution_count": 3,
   "id": "00fff946",
   "metadata": {},
   "outputs": [
    {
     "name": "stdout",
     "output_type": "stream",
     "text": [
      "True\n"
     ]
    }
   ],
   "source": [
    "print('IneuronFullStackDS'.isalnum())"
   ]
  },
  {
   "cell_type": "code",
   "execution_count": 7,
   "id": "384167cd",
   "metadata": {},
   "outputs": [
    {
     "name": "stdout",
     "output_type": "stream",
     "text": [
      "False\n"
     ]
    }
   ],
   "source": [
    "print('Ineuron Full Stack Data science'.istitle())"
   ]
  },
  {
   "cell_type": "code",
   "execution_count": 8,
   "id": "b7d3636c",
   "metadata": {},
   "outputs": [
    {
     "name": "stdout",
     "output_type": "stream",
     "text": [
      "Ineuron Full Stack Data Science\n"
     ]
    }
   ],
   "source": [
    "print('Ineuron Full Stack Data science'.title())"
   ]
  },
  {
   "cell_type": "code",
   "execution_count": 9,
   "id": "cfe5a596",
   "metadata": {},
   "outputs": [
    {
     "name": "stdout",
     "output_type": "stream",
     "text": [
      "('\"I could eat ', 'bananas', ' all day, bananas are my favorite fruit\"')\n"
     ]
    }
   ],
   "source": [
    "print('\"I could eat bananas all day, bananas are my favorite fruit\"'.partition('bananas'))"
   ]
  },
  {
   "cell_type": "code",
   "execution_count": 10,
   "id": "8225ef26",
   "metadata": {},
   "outputs": [
    {
     "name": "stdout",
     "output_type": "stream",
     "text": [
      "('\"I could eat bananas all day, ', 'bananas', ' are my favorite fruit\"')\n"
     ]
    }
   ],
   "source": [
    "print('\"I could eat bananas all day, bananas are my favorite fruit\"'.rpartition('bananas'))"
   ]
  },
  {
   "cell_type": "code",
   "execution_count": 11,
   "id": "73b128b3",
   "metadata": {},
   "outputs": [
    {
     "name": "stdout",
     "output_type": "stream",
     "text": [
      "True\n"
     ]
    }
   ],
   "source": [
    "print('GeeksForFreaks'.isidentifier())"
   ]
  },
  {
   "cell_type": "code",
   "execution_count": 12,
   "id": "b0d591ee",
   "metadata": {},
   "outputs": [
    {
     "name": "stdout",
     "output_type": "stream",
     "text": [
      "17\n"
     ]
    }
   ],
   "source": [
    "print(len('Linear Regression'))"
   ]
  },
  {
   "cell_type": "code",
   "execution_count": 13,
   "id": "ac794401",
   "metadata": {},
   "outputs": [
    {
     "name": "stdout",
     "output_type": "stream",
     "text": [
      "1\n"
     ]
    }
   ],
   "source": [
    "print('Ineuron'.index('n'))"
   ]
  },
  {
   "cell_type": "code",
   "execution_count": 14,
   "id": "775ddbe4",
   "metadata": {},
   "outputs": [
    {
     "name": "stdout",
     "output_type": "stream",
     "text": [
      "6\n"
     ]
    }
   ],
   "source": [
    "print('Ineuron'.rindex('n'))"
   ]
  },
  {
   "cell_type": "code",
   "execution_count": 15,
   "id": "04a30c76",
   "metadata": {},
   "outputs": [
    {
     "name": "stdout",
     "output_type": "stream",
     "text": [
      "t\n"
     ]
    }
   ],
   "source": [
    "print(max('Data_Scientist'))"
   ]
  },
  {
   "cell_type": "code",
   "execution_count": 16,
   "id": "238b6291",
   "metadata": {},
   "outputs": [
    {
     "name": "stdout",
     "output_type": "stream",
     "text": [
      "A\n"
     ]
    }
   ],
   "source": [
    "print(min('Data_Analyst'))\n"
   ]
  },
  {
   "cell_type": "code",
   "execution_count": 17,
   "id": "209b234e",
   "metadata": {},
   "outputs": [
    {
     "name": "stdout",
     "output_type": "stream",
     "text": [
      "['Ineuron ', ' Full Stack ', ' Data Science ', ' Course ']\n"
     ]
    }
   ],
   "source": [
    "print('Ineuron \\n Full Stack \\n Data Science \\n Course '.splitlines())"
   ]
  },
  {
   "cell_type": "code",
   "execution_count": 18,
   "id": "da9445ad",
   "metadata": {},
   "outputs": [
    {
     "name": "stdout",
     "output_type": "stream",
     "text": [
      "Finding nemo\n"
     ]
    }
   ],
   "source": [
    "print('finding nemo'.capitalize())"
   ]
  },
  {
   "cell_type": "code",
   "execution_count": 19,
   "id": "7419397a",
   "metadata": {},
   "outputs": [
    {
     "name": "stdout",
     "output_type": "stream",
     "text": [
      "DATAPIPELINES\n"
     ]
    }
   ],
   "source": [
    "print('datapipelines'.upper())"
   ]
  },
  {
   "cell_type": "code",
   "execution_count": 20,
   "id": "94a4a11d",
   "metadata": {},
   "outputs": [
    {
     "name": "stdout",
     "output_type": "stream",
     "text": [
      "mlops\n"
     ]
    }
   ],
   "source": [
    "print('MLOPS'.lower())"
   ]
  },
  {
   "cell_type": "code",
   "execution_count": 22,
   "id": "a2b2c5f2",
   "metadata": {},
   "outputs": [
    {
     "name": "stdout",
     "output_type": "stream",
     "text": [
      "doloris jane umbridge\n"
     ]
    }
   ],
   "source": [
    "print('DoLoris Jane Umbridge'.casefold())"
   ]
  },
  {
   "cell_type": "code",
   "execution_count": 23,
   "id": "98798385",
   "metadata": {},
   "outputs": [
    {
     "name": "stdout",
     "output_type": "stream",
     "text": [
      "Data science    Data Analyst\n"
     ]
    }
   ],
   "source": [
    "print('Data science\\tData Analyst'.expandtabs(8))"
   ]
  },
  {
   "cell_type": "code",
   "execution_count": 24,
   "id": "55c0c0e6",
   "metadata": {},
   "outputs": [
    {
     "name": "stdout",
     "output_type": "stream",
     "text": [
      "1\n"
     ]
    }
   ],
   "source": [
    "print('Ineuron'.find('n'))"
   ]
  },
  {
   "cell_type": "code",
   "execution_count": 25,
   "id": "6825c96c",
   "metadata": {},
   "outputs": [
    {
     "name": "stdout",
     "output_type": "stream",
     "text": [
      "6\n"
     ]
    }
   ],
   "source": [
    "print('Ineuron'.rfind('n'))"
   ]
  },
  {
   "cell_type": "code",
   "execution_count": 26,
   "id": "26a0b556",
   "metadata": {},
   "outputs": [
    {
     "name": "stdout",
     "output_type": "stream",
     "text": [
      "2\n"
     ]
    }
   ],
   "source": [
    "print('Transformers'.count('s'))"
   ]
  },
  {
   "cell_type": "code",
   "execution_count": 27,
   "id": "114c1455",
   "metadata": {},
   "outputs": [
    {
     "name": "stdout",
     "output_type": "stream",
     "text": [
      "['i', 'euro', '']\n"
     ]
    }
   ],
   "source": [
    "print('ineuron'.split('n'))"
   ]
  },
  {
   "cell_type": "code",
   "execution_count": 28,
   "id": "b43b1857",
   "metadata": {},
   "outputs": [
    {
     "name": "stdout",
     "output_type": "stream",
     "text": [
      "['i', 'euro', '']\n",
      "EDA \n",
      " EDA\n"
     ]
    }
   ],
   "source": [
    "print('ineuron'.rsplit('n'))\n",
    "print(' EDA '.lstrip())\n",
    "print(' EDA '.rstrip())"
   ]
  },
  {
   "cell_type": "code",
   "execution_count": 29,
   "id": "9415bf92",
   "metadata": {},
   "outputs": [
    {
     "name": "stdout",
     "output_type": "stream",
     "text": [
      "EDA\n",
      "eXPLORATORY dATA aNALYSIS\n",
      "Iris_flower_Dataset\n"
     ]
    }
   ],
   "source": [
    "print(' EDA '.strip())\n",
    "print('Exploratory Data Analysis'.swapcase())\n",
    "print('_'.join(['Iris','flower','Dataset']))"
   ]
  },
  {
   "cell_type": "code",
   "execution_count": 30,
   "id": "803ac760",
   "metadata": {},
   "outputs": [
    {
     "name": "stdout",
     "output_type": "stream",
     "text": [
      "Hello Pam!\n"
     ]
    }
   ],
   "source": [
    "mydict = {83:  80}\n",
    "print(\"Hello Sam!\".translate(mydict))"
   ]
  },
  {
   "cell_type": "code",
   "execution_count": 31,
   "id": "9f98126c",
   "metadata": {},
   "outputs": [
    {
     "data": {
      "text/plain": [
       "83"
      ]
     },
     "execution_count": 31,
     "metadata": {},
     "output_type": "execute_result"
    }
   ],
   "source": [
    "ord(\"S\")"
   ]
  },
  {
   "cell_type": "code",
   "execution_count": 32,
   "id": "e566563b",
   "metadata": {},
   "outputs": [
    {
     "name": "stdout",
     "output_type": "stream",
     "text": [
      "Hello Pam!\n"
     ]
    }
   ],
   "source": [
    "txt = \"Hello Sam!\"\n",
    "mytable = txt.maketrans(\"S\", \"P\")\n",
    "print(txt.translate(mytable))"
   ]
  },
  {
   "cell_type": "code",
   "execution_count": 33,
   "id": "c3e57630",
   "metadata": {},
   "outputs": [
    {
     "name": "stdout",
     "output_type": "stream",
     "text": [
      "I2euro2\n",
      "b'Natural Language Processing'\n",
      "Nemo      \n",
      "      Nemo\n",
      "   Nemo   \n",
      "00000Hello\n"
     ]
    }
   ],
   "source": [
    "print('Ineuron'.replace('n','2'))\n",
    "print('Natural Language Processing'.encode())\n",
    "print('Nemo'.ljust(10))\n",
    "print('Nemo'.rjust(10))\n",
    "print('Nemo'.center(10))\n",
    "print('Hello'.zfill(10))"
   ]
  },
  {
   "cell_type": "markdown",
   "id": "52d904ac",
   "metadata": {},
   "source": [
    "## Q2. How do the string forms in Python 3.X vary in terms of operations?\n"
   ]
  },
  {
   "cell_type": "markdown",
   "id": "9b3857ad",
   "metadata": {},
   "source": [
    "Ans: In Python3 default format of strings is Unicode Whereas in Python2 we need to explicitly mention Unicode value using u."
   ]
  },
  {
   "cell_type": "markdown",
   "id": "32bf59f5",
   "metadata": {},
   "source": [
    "## Q3. In Python 3.X, how do you put non-ASCII Unicode characters in a string?\n"
   ]
  },
  {
   "cell_type": "markdown",
   "id": "7b3954b7",
   "metadata": {},
   "source": [
    "Ans: In Python 3.x unidecode() method from unidecode library can be used to put non-ASCII Unicode Characters in a string."
   ]
  },
  {
   "cell_type": "markdown",
   "id": "3f42ddd7",
   "metadata": {},
   "source": [
    "## Q4. In Python 3.X, what are the key differences between text-mode and binary-mode files?\n"
   ]
  },
  {
   "cell_type": "markdown",
   "id": "18f2f8e8",
   "metadata": {},
   "source": [
    "Ans: The major difference between these two is that a text file contains textual information in the form of alphabets, digits and special characters or symbols. On the other hand, a binary file contains bytes or a compiled version of a text file.\n",
    "\n",
    "When a file is opened in text mode, reading its data automatically decodes its content (as per the platform default or as per provided encoding), and returns it as a str; writing operation takes a str, and automatically encodes it before transferring to the file. Text mode files also support universal end-of-line translation, and encoding specification arguments.\n",
    "\n",
    "When a file is opened in binary mode by adding a b to the mode string argument in the open() call, reading its data does not decode it in any way, and simply returns its content raw and unchanged, as a bytes object; writing takes a bytes object and transfers it to the file unchanged. Binary-mode files also accept a bytearray object for the content to be written to the file."
   ]
  },
  {
   "cell_type": "markdown",
   "id": "b2a1b635",
   "metadata": {},
   "source": [
    "## Q5.m How can you interpret a Unicode text file containing text encoded in a different encoding than your platform's default?\n"
   ]
  },
  {
   "cell_type": "markdown",
   "id": "bcdf1f88",
   "metadata": {},
   "source": [
    "Ans: Use of encode() and decode() method can be used to you interpret a Unicode text file containing text encoded in a different encoding than your platform's default, by default encoding parameter is UTF-8"
   ]
  },
  {
   "cell_type": "code",
   "execution_count": null,
   "id": "9bf18f9f",
   "metadata": {},
   "outputs": [],
   "source": []
  },
  {
   "cell_type": "markdown",
   "id": "3c5cbe40",
   "metadata": {},
   "source": [
    "## Q6. What is the best way to make a Unicode text file in a particular encoding format?\n"
   ]
  },
  {
   "cell_type": "markdown",
   "id": "9b4b1bc8",
   "metadata": {},
   "source": [
    "Ans: Use str.encode() and file.write() to make a Unicode text file in a particular encoding format, default encoding format is UTF-18.\n",
    "\n",
    "Call str.encode(encoding) with encoding set to utf8 to encode str.\n",
    "Call open(file, mode) to open a file with mode set to wb . wb writes to files in binary mode & preserves UTF-8format.\n",
    "Call file.write(data) to write data to the file."
   ]
  },
  {
   "cell_type": "code",
   "execution_count": 1,
   "id": "317cb287",
   "metadata": {},
   "outputs": [
    {
     "name": "stdout",
     "output_type": "stream",
     "text": [
      "b'\\xd1\\x83\\xd0\\xbb\\xd1\\x8b\\xd0\\xb1\\xd0\\xb0\\xd1\\x82\\xd1\\x8c\\xd1\\x81\\xd1\\x8f \\xd0\\x92\\xd0\\xbb\\xd0\\xb0\\xd0\\xb4\\xd0\\xb8\\xd0\\xbc\\xd0\\xb8\\xd1\\x80 \\xd0\\x9f\\xd1\\x83\\xd1\\x82\\xd0\\xb8\\xd0\\xbd'\n",
      "\n",
      "b'\\xd1\\x83\\xd0\\xbb\\xd1\\x8b\\xd0\\xb1\\xd0\\xb0\\xd1\\x82\\xd1\\x8c\\xd1\\x81\\xd1\\x8f \\xd0\\x92\\xd0\\xbb\\xd0\\xb0\\xd0\\xb4\\xd0\\xb8\\xd0\\xbc\\xd0\\xb8\\xd1\\x80 \\xd0\\x9f\\xd1\\x83\\xd1\\x82\\xd0\\xb8\\xd0\\xbd'\n"
     ]
    }
   ],
   "source": [
    "unicode_text = u\"улыбаться Владимир Путин\"\n",
    "encoded_unicode_text = unicode_text.encode(\"utf-8\")\n",
    "print(encoded_unicode_text,end=\"\\n\\n\")\n",
    "\n",
    "w_file = open(\"w_file.txt\",\"wb\")\n",
    "w_file.write(encoded_unicode_text)\n",
    "w_file.close()\n",
    "\n",
    "r_file = open(\"w_file.txt\",\"rb\")\n",
    "data = r_file.read()\n",
    "print(data)"
   ]
  },
  {
   "cell_type": "markdown",
   "id": "56cb7761",
   "metadata": {},
   "source": [
    "## Q7. What qualifies ASCII text as a form of Unicode text?\n"
   ]
  },
  {
   "cell_type": "markdown",
   "id": "b9ebffdb",
   "metadata": {},
   "source": [
    "Ans: Unicode represents most written languages in the world. ASCII has its equivalent in Unicode. The difference between ASCII and Unicode is that ASCII represents lowercase letters (a-z), uppercase letters (A-Z), digits (0–9) and symbols such as punctuation marks while Unicode represents letters of English, Arabic, Greek etc. mathematical symbols, historical scripts, emoji covering a wide range of characters than ASCII."
   ]
  },
  {
   "cell_type": "markdown",
   "id": "05941881",
   "metadata": {},
   "source": [
    "## Q8. How much of an effect does the change in string types in Python 3.X have on your code?\n"
   ]
  },
  {
   "cell_type": "markdown",
   "id": "604d00ea",
   "metadata": {},
   "source": [
    "Ans: Python 3 stores strings as Unicode by default whereas Python 2 requires you to mark a string with a u if you want to store it as Unicode. Unicode strings are more versatile than ASCII strings, which are the Python 3.X default, as they can store letters from foreign languages as well as emoji and the standard Roman letters and numerals."
   ]
  },
  {
   "cell_type": "code",
   "execution_count": null,
   "id": "72a83778",
   "metadata": {},
   "outputs": [],
   "source": []
  },
  {
   "cell_type": "code",
   "execution_count": null,
   "id": "bfcf65bb",
   "metadata": {},
   "outputs": [],
   "source": []
  },
  {
   "cell_type": "code",
   "execution_count": null,
   "id": "4a649afa",
   "metadata": {},
   "outputs": [],
   "source": []
  },
  {
   "cell_type": "code",
   "execution_count": null,
   "id": "d4defca5",
   "metadata": {},
   "outputs": [],
   "source": []
  }
 ],
 "metadata": {
  "kernelspec": {
   "display_name": "Python 3 (ipykernel)",
   "language": "python",
   "name": "python3"
  },
  "language_info": {
   "codemirror_mode": {
    "name": "ipython",
    "version": 3
   },
   "file_extension": ".py",
   "mimetype": "text/x-python",
   "name": "python",
   "nbconvert_exporter": "python",
   "pygments_lexer": "ipython3",
   "version": "3.10.9"
  }
 },
 "nbformat": 4,
 "nbformat_minor": 5
}
