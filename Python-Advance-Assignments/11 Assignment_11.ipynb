{
 "cells": [
  {
   "cell_type": "markdown",
   "id": "ff637223",
   "metadata": {},
   "source": [
    "## Q1. What is the concept of a metaclass?\n"
   ]
  },
  {
   "cell_type": "markdown",
   "id": "51c1576b",
   "metadata": {},
   "source": [
    "Ans: Metaclass in Python is a class of a class that defines how a class behaves. A class is itself a instance of Metaclass, and any Instance of Class in Python is an Instance of type metaclass. E.g. Type of of int, str, float, list, tuple and many more is of metaclass type."
   ]
  },
  {
   "cell_type": "markdown",
   "id": "7eb25175",
   "metadata": {},
   "source": [
    "## Q2. What is the best way to declare a class's metaclass?\n"
   ]
  },
  {
   "cell_type": "markdown",
   "id": "7f52e04d",
   "metadata": {},
   "source": [
    "Ans: A way to declare a class’ metaclass is by using metaclass keyword in class definition."
   ]
  },
  {
   "cell_type": "code",
   "execution_count": 1,
   "id": "27b63577",
   "metadata": {},
   "outputs": [
    {
     "name": "stdout",
     "output_type": "stream",
     "text": [
      "<class 'type'>\n",
      "<class '__main__.meta'>\n"
     ]
    }
   ],
   "source": [
    "class meta(type):\n",
    "    pass\n",
    "class class_meta(metaclass=meta):\n",
    "    pass\n",
    "print(type(meta))\n",
    "print(type(class_meta))"
   ]
  },
  {
   "cell_type": "markdown",
   "id": "159e634b",
   "metadata": {},
   "source": [
    "## Q3. How do class decorators overlap with metaclasses for handling classes ?\n"
   ]
  },
  {
   "cell_type": "markdown",
   "id": "ad0e6bf7",
   "metadata": {},
   "source": [
    "Ans: Class decorators and metaclasses are two different mechanisms in Python for modifying classes, but they can overlap in terms of functionality.\n",
    "\n",
    "Class decorators are functions that take a class object as input and return a modified class object. They are applied to the class using the @decorator syntax. Class decorators are a relatively simple way to modify class behavior without altering the class hierarchy.\n",
    "\n",
    "Metaclasses, on the other hand, are classes that define the behavior of other classes. They are used to create new types of classes or to modify the behavior of existing classes. Metaclasses allow you to modify the behavior of all instances of a class, rather than just individual instances.\n",
    "\n",
    "Both class decorators and metaclasses can be used to modify the behavior of a class, but metaclasses offer more powerful and fine-grained control over class creation and behavior. For example, a metaclass can modify the class's attributes, methods, and inheritance hierarchy, whereas a class decorator can only modify its attributes and methods.\n",
    "\n",
    "In some cases, it may be possible to achieve the same result using either a class decorator or a metaclass. However, the choice between the two will depend on the specific use case and the level of control required. Class decorators are generally simpler and easier to use, while metaclasses offer more advanced customization options."
   ]
  },
  {
   "cell_type": "code",
   "execution_count": 3,
   "id": "bfb399d6",
   "metadata": {},
   "outputs": [],
   "source": [
    "import logging\n",
    "\n",
    "def logging_decorator(func):\n",
    "    def wrapper(*args, **kwargs):\n",
    "        logging.info(f\"Calling function {func.__name__} with args={args} kwargs={kwargs}\")\n",
    "        result = func(*args, **kwargs)\n",
    "        logging.info(f\"Function {func.__name__} returned {result}\")\n",
    "        return result\n",
    "    return wrapper\n",
    "\n",
    "\n",
    "# Example using class decorators\n",
    "def add_logging(cls):\n",
    "    for name, method in cls.__dict__.items():\n",
    "        if callable(method):\n",
    "            setattr(cls, name, logging_decorator(method))\n",
    "    return cls\n",
    "\n",
    "@add_logging\n",
    "class MyClass:\n",
    "    def my_method(self):\n",
    "        print(\"Hello, World!\")\n",
    "\n",
    "# Example using a metaclass\n",
    "class LoggingMeta(type):\n",
    "    def __new__(cls, name, bases, attrs):\n",
    "        for name, method in attrs.items():\n",
    "            if callable(method):\n",
    "                attrs[name] = logging_decorator(method)\n",
    "        return super().__new__(cls, name, bases, attrs)\n",
    "\n",
    "class MyClass(metaclass=LoggingMeta):\n",
    "    def my_method(self):\n",
    "        print(\"Hello, World!\")\n"
   ]
  },
  {
   "cell_type": "code",
   "execution_count": 4,
   "id": "1755520f",
   "metadata": {},
   "outputs": [
    {
     "name": "stdout",
     "output_type": "stream",
     "text": [
      "Hello, World!\n"
     ]
    }
   ],
   "source": [
    "p = MyClass()\n",
    "p.my_method()"
   ]
  },
  {
   "cell_type": "markdown",
   "id": "9c7c48e0",
   "metadata": {},
   "source": [
    "## Q4. How do class decorators overlap with metaclasses for handling instances?\n"
   ]
  },
  {
   "cell_type": "markdown",
   "id": "08e20ff6",
   "metadata": {},
   "source": [
    "Class decorators and metaclasses can also overlap in their ability to handle instances of a class.\n",
    "\n",
    "Class decorators can be used to modify the behavior of individual instances of a class, while metaclasses can be used to modify the behavior of all instances of a class.\n",
    "\n",
    "Here's an example of how class decorators can be used to modify the behavior of individual instances of a class:"
   ]
  },
  {
   "cell_type": "code",
   "execution_count": 11,
   "id": "ecb843d3",
   "metadata": {},
   "outputs": [
    {
     "name": "stdout",
     "output_type": "stream",
     "text": [
      "HELLO\n"
     ]
    }
   ],
   "source": [
    "def uppercase(cls):\n",
    "    class UppercaseString(str):\n",
    "        def __new__(cls, value):\n",
    "            return super().__new__(cls, value.upper())\n",
    "\n",
    "    old_init = cls.__init__\n",
    "\n",
    "    def new_init(self, value):\n",
    "        value = UppercaseString(value)\n",
    "        old_init(self, value)\n",
    "\n",
    "    cls.__init__ = new_init\n",
    "    return cls\n",
    "\n",
    "@uppercase\n",
    "class MyString:\n",
    "    def __init__(self, value):\n",
    "        self.value = value\n",
    "\n",
    "s = MyString('hello')\n",
    "print(s.value)  # Output: HELLO\n"
   ]
  },
  {
   "cell_type": "markdown",
   "id": "9208d8df",
   "metadata": {},
   "source": [
    "In this example, we define the uppercase decorator that creates a new UppercaseString class that overrides the __new__ method to return an uppercase version of the input string.\n",
    "\n",
    "The uppercase decorator also modifies the __init__ method of the MyString class to create a new UppercaseString instance with the input string converted to uppercase.\n",
    "\n",
    "When we create an instance of MyString with the string 'hello', the uppercase decorator modifies the behavior of the instance to create a new UppercaseString instance, which is an uppercase version of the original string."
   ]
  },
  {
   "cell_type": "code",
   "execution_count": null,
   "id": "707c485b",
   "metadata": {},
   "outputs": [],
   "source": []
  },
  {
   "cell_type": "markdown",
   "id": "8f832e4c",
   "metadata": {},
   "source": [
    "Metaclasses, on the other hand, can be used to modify the behavior of all instances of a class:"
   ]
  },
  {
   "cell_type": "code",
   "execution_count": 14,
   "id": "87dae2f2",
   "metadata": {},
   "outputs": [
    {
     "name": "stdout",
     "output_type": "stream",
     "text": [
      "HELLO\n"
     ]
    }
   ],
   "source": [
    "class UppercaseMeta(type):\n",
    "    def __call__(cls, value):\n",
    "        return super().__call__(value.upper())\n",
    "\n",
    "class MyString(metaclass=UppercaseMeta):\n",
    "    def __init__(self, value):\n",
    "        self.value = value\n",
    "\n",
    "s = MyString('hello')\n",
    "print(s.value)  # Output: HELLO\n"
   ]
  },
  {
   "cell_type": "markdown",
   "id": "0422d4a8",
   "metadata": {},
   "source": [
    "In this example, we have defined a metaclass UppercaseMeta that modifies the __call__ method of the MyString class. When we create an instance of MyString with the string 'hello', the UppercaseMeta metaclass modifies the behavior of the __call__ method to create a new MyString instance with an uppercase version of the original string.\n",
    "\n",
    "The MyString class is defined with the UppercaseMeta metaclass, which modifies the behavior of all instances of the class.\n",
    "\n",
    "In summary, class decorators can be used to modify the behavior of individual instances of a class, while metaclasses can be used to modify the behavior of all instances of a class. Both techniques can be used together to create more powerful and flexible class hierarchies."
   ]
  },
  {
   "cell_type": "code",
   "execution_count": null,
   "id": "8d7c26cb",
   "metadata": {},
   "outputs": [],
   "source": []
  },
  {
   "cell_type": "code",
   "execution_count": null,
   "id": "ab6e258c",
   "metadata": {},
   "outputs": [],
   "source": []
  },
  {
   "cell_type": "markdown",
   "id": "0037ee79",
   "metadata": {},
   "source": [
    "## for my reference "
   ]
  },
  {
   "cell_type": "markdown",
   "id": "3fac74fd",
   "metadata": {},
   "source": [
    "In Python, the __new__ method is a special method that is responsible for creating and returning a new instance of a class. It is called before the __init__ method and is responsible for initializing and returning the new instance."
   ]
  },
  {
   "cell_type": "code",
   "execution_count": 21,
   "id": "5df4ccd5",
   "metadata": {},
   "outputs": [
    {
     "name": "stdout",
     "output_type": "stream",
     "text": [
      "42\n",
      "42\n"
     ]
    }
   ],
   "source": [
    "class MyNumber:\n",
    "    def __new__(cls, value):\n",
    "        if isinstance(value, str):\n",
    "            value = int(value)\n",
    "        return super().__new__(cls)\n",
    "\n",
    "    def __init__(self, value):\n",
    "        self.value = value\n",
    "\n",
    "n1 = MyNumber(42)\n",
    "n2 = MyNumber('42')\n",
    "\n",
    "print(n1.value)  # Output: 42\n",
    "print(n2.value)  # Output: 42\n"
   ]
  },
  {
   "cell_type": "code",
   "execution_count": null,
   "id": "317df7ca",
   "metadata": {},
   "outputs": [],
   "source": []
  },
  {
   "cell_type": "code",
   "execution_count": null,
   "id": "8f99576c",
   "metadata": {},
   "outputs": [],
   "source": []
  },
  {
   "cell_type": "code",
   "execution_count": null,
   "id": "9a691c07",
   "metadata": {},
   "outputs": [],
   "source": []
  },
  {
   "cell_type": "code",
   "execution_count": null,
   "id": "2a4975c1",
   "metadata": {},
   "outputs": [],
   "source": []
  },
  {
   "cell_type": "code",
   "execution_count": null,
   "id": "c6f4d674",
   "metadata": {},
   "outputs": [],
   "source": []
  },
  {
   "cell_type": "code",
   "execution_count": null,
   "id": "aeeb1bee",
   "metadata": {},
   "outputs": [],
   "source": []
  },
  {
   "cell_type": "code",
   "execution_count": null,
   "id": "d7499aaa",
   "metadata": {},
   "outputs": [],
   "source": []
  },
  {
   "cell_type": "code",
   "execution_count": null,
   "id": "92e85eca",
   "metadata": {},
   "outputs": [],
   "source": []
  },
  {
   "cell_type": "code",
   "execution_count": null,
   "id": "110f4b1c",
   "metadata": {},
   "outputs": [],
   "source": []
  },
  {
   "cell_type": "code",
   "execution_count": null,
   "id": "499707d6",
   "metadata": {},
   "outputs": [],
   "source": []
  },
  {
   "cell_type": "code",
   "execution_count": null,
   "id": "b65a34af",
   "metadata": {},
   "outputs": [],
   "source": []
  },
  {
   "cell_type": "code",
   "execution_count": null,
   "id": "2c03ed87",
   "metadata": {},
   "outputs": [],
   "source": []
  },
  {
   "cell_type": "code",
   "execution_count": null,
   "id": "b92c2b87",
   "metadata": {},
   "outputs": [],
   "source": []
  },
  {
   "cell_type": "code",
   "execution_count": null,
   "id": "1bc25306",
   "metadata": {},
   "outputs": [],
   "source": []
  },
  {
   "cell_type": "code",
   "execution_count": null,
   "id": "2b43a01c",
   "metadata": {},
   "outputs": [],
   "source": []
  },
  {
   "cell_type": "code",
   "execution_count": null,
   "id": "f266018f",
   "metadata": {},
   "outputs": [],
   "source": []
  }
 ],
 "metadata": {
  "kernelspec": {
   "display_name": "Python 3 (ipykernel)",
   "language": "python",
   "name": "python3"
  },
  "language_info": {
   "codemirror_mode": {
    "name": "ipython",
    "version": 3
   },
   "file_extension": ".py",
   "mimetype": "text/x-python",
   "name": "python",
   "nbconvert_exporter": "python",
   "pygments_lexer": "ipython3",
   "version": "3.8.10"
  }
 },
 "nbformat": 4,
 "nbformat_minor": 5
}
